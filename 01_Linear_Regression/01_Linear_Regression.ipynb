{
 "cells": [
  {
   "cell_type": "markdown",
   "metadata": {},
   "source": [
    "# Exercise 1 - Linear Regression\n",
    "\n",
    "The first exercise is about linear models.\n",
    "The given data set contains prices and other attributes of approximately 54,000 diamonds. You should fit a linear model to predict the price of a diamond, given its attributes.\n",
    "\n",
    "This exercise is meant to get you started with the tool stack. Besides numpy and matplotlib we use the following python packages:\n",
    "\n",
    "- [pandas](https://pandas.pydata.org/)\n",
    "- [sklearn](http://scikit-learn.org/)\n",
    "\n",
    "If you are unfamiliar with them, follow the documentation links. \n",
    "\n",
    "In the event of a persistent problem, do not hesitate to contact the course instructor under\n",
    "\n",
    "- paul.kahlmeyer@uni-jena.de\n",
    "\n",
    "### Submission\n",
    "- Deadline of submission:\n",
    "        19.04.23 23:59\n",
    "- Submission on [moodle page](https://moodle.uni-jena.de/course/view.php?id=43681)\n",
    "\n",
    "\n",
    "### Help\n",
    "In case you cannot solve a task, you can use the saved values within the `help` directory:\n",
    "- Load arrays with [Numpy](https://numpy.org/doc/stable/reference/generated/numpy.load.html)\n",
    "```\n",
    "np.load('help/array_name.npy')\n",
    "```\n",
    "- Load functions with [Dill](https://dill.readthedocs.io/en/latest/dill.html)\n",
    "```\n",
    "import dill\n",
    "with open('help/some_func.pkl', 'rb') as f:\n",
    "    func = dill.load(f)\n",
    "```\n",
    "\n",
    "to continue working on the other tasks."
   ]
  },
  {
   "cell_type": "markdown",
   "metadata": {},
   "source": [
    "## Preprocessing\n",
    "\n",
    "We use the same notation as in the lecture.\n",
    "- $m$... Number of datapoints\n",
    "- $n$... Number of features\n",
    "\n",
    "### Dataset \n",
    "\n",
    "As a dataset, we use the [diamond dataset](https://www.kaggle.com/shivam2503/diamonds).\n",
    "\n",
    "Each element in this dataset represents a diamond and has the following features:\n",
    "\n",
    "- price: price in US dollars (326.0 - 18823.0)\n",
    "- carat: weight of the diamond (0.2 - 5.01)\n",
    "- cut: quality of the cut (Fair, Good, Very Good, Premium, Ideal)\n",
    "- color: diamond colour, from J (worst) to D (best)\n",
    "- clarity: a measurement of how clear the diamond is (I1 (worst), SI2, SI1, VS2, VS1, VVS2, VVS1, IF (best))\n",
    "- x: length in mm (0-10.74)\n",
    "- y: width in mm (0-58.9)\n",
    "- z: depth in mm (0-31.8)\n",
    "- depth: total depth percentage = 2 * z / (x + y) (43-79)\n",
    "- table: width of top of diamond relative to widest point (43-95)\n",
    "\n",
    "The dataset is stored under `diamonds.csv`.\n",
    "\n",
    "### Task 1\n",
    "Import the data from the file using [pandas](https://pandas.pydata.org/docs/reference/api/pandas.read_csv.html) and examine it.\n",
    "\n",
    "Determine the following:\n",
    "\n",
    "* The number of data points\n",
    "* The column names\n",
    "* The data types for each column"
   ]
  },
  {
   "cell_type": "code",
   "execution_count": null,
   "metadata": {},
   "outputs": [],
   "source": [
    "# TODO: load data\n",
    "\n",
    "# TODO: determine number of datapoints\n",
    "\n",
    "# TODO: determine column names\n",
    "\n",
    "# TODO: determine datatypes of columns"
   ]
  },
  {
   "cell_type": "markdown",
   "metadata": {},
   "source": [
    "### Task 2\n",
    "\n",
    "Since there are discrete variables and we do not yet know how to include them into our regression model, remove them. Additionally, verify that there are no missing values in our dataset.\n",
    "\n",
    "Hint: there are multiple ways to [check](https://towardsdatascience.com/how-to-check-for-missing-values-in-pandas-d2749e45a345) for missing values"
   ]
  },
  {
   "cell_type": "code",
   "execution_count": null,
   "metadata": {},
   "outputs": [],
   "source": [
    "# TODO: remove discrete variables + check for missing values"
   ]
  },
  {
   "cell_type": "markdown",
   "metadata": {},
   "source": [
    "As discussed in the lecture, we should **standardize** the data, to make different scales comparable.\n",
    "\n",
    "Standardization is defined for each feature $x_i$:\n",
    "\n",
    "\\begin{align}\n",
    "\\hat{x}_i = \\cfrac{x_i-\\mu_x}{\\sigma_x}\\,,\n",
    "\\end{align}\n",
    "where $\\mu_x$ and $\\sigma_x$ are the empirical [mean](https://en.wikipedia.org/wiki/Mean) and [standard deviation](https://en.wikipedia.org/wiki/Standard_deviation) of the feature $x$.\n",
    "\n",
    "### Task 3\n",
    "\n",
    "Convert the pandas dataframe to a numpy array and calculate the standardized data matrix $X$."
   ]
  },
  {
   "cell_type": "code",
   "execution_count": null,
   "metadata": {},
   "outputs": [],
   "source": [
    "# TODO: calculate standardized data matrix X"
   ]
  },
  {
   "cell_type": "markdown",
   "metadata": {},
   "source": [
    "### Task 4\n",
    "\n",
    "Scikit learn has an [implementation](https://scikit-learn.org/stable/modules/generated/sklearn.preprocessing.StandardScaler.html#sklearn.preprocessing.StandardScaler) of this preprocessing.\n",
    "\n",
    "Use it to create a second standardized data matrix and compare this result with your result from Task 3."
   ]
  },
  {
   "cell_type": "code",
   "execution_count": null,
   "metadata": {},
   "outputs": [],
   "source": [
    "# TODO: compare to sklearn result"
   ]
  },
  {
   "cell_type": "markdown",
   "metadata": {},
   "source": [
    "## Inspecting the Data\n",
    "\n",
    "Visualizing correlation in your data often helps to build intuition and get a feeling of the deeper mojo in the set.\n",
    "\n",
    "Here we want to use the [Pearson correlation coefficient](https://en.wikipedia.org/wiki/Pearson_correlation_coefficient) as a measure for correlation between two variables.\n",
    "\n",
    "Let $x$ and $y$ be two variables of the unstandardized dataset (e.g. `carat` and `price`). The empirical Pearson correlation coefficient between $x$ and $y$ is defined as \n",
    "\n",
    "\\begin{align}\n",
    "r_{xy} = \\cfrac{\\sum_{i=1}^n(x_i-\\bar{x})(y_i-\\bar{y})}{\\sqrt{\\sum_{i=1}^n(x_i-\\bar{x})^2}\\sqrt{\\sum_{i=1}^n(y_i-\\bar{y})^2}}\\,,\n",
    "\\end{align}\n",
    "where $\\bar{x}$ and $\\bar{y}$ are the respective empirical means.\n",
    "\n",
    "### Task 5\n",
    "\n",
    "How does this definition translate to our standardized data matrix $X$?\n",
    "\n",
    "Calculate the pairwise correlation matrix for our dataset. \n",
    "\n",
    "Visualize this correlation matrix and label the rows/columns."
   ]
  },
  {
   "cell_type": "code",
   "execution_count": null,
   "metadata": {
    "scrolled": true
   },
   "outputs": [],
   "source": [
    "# TODO: calculate correlation matrix\n",
    "\n",
    "# TODO: visualize correlation matrix"
   ]
  },
  {
   "cell_type": "markdown",
   "metadata": {},
   "source": [
    "## Linear Regression\n",
    "\n",
    "Our goal in this exercise will be to predict the `price` of a diamond based on some of its other features.\n",
    "\n",
    "We will use linear regression, that is we assume the `price` (=$y$) depends linearly on the other features (=$\\mathbf{x}$):\n",
    "\\begin{align}\n",
    "y = \\theta^T \\mathbf{x} + \\varepsilon\n",
    "\\end{align}\n",
    "where $\\varepsilon$ is standard normal distributed noise.\n",
    "\n",
    "In `Linear_Regression_Script.pdf` you find how the maximum likelihood estimate $\\hat\\theta$ is calculated."
   ]
  },
  {
   "cell_type": "markdown",
   "metadata": {},
   "source": [
    "### Task 6\n",
    "\n",
    "Implement a `LinReg` class that uses maximum likelihood estimation. Add the possibility to use [Ridge Regression](https://en.wikipedia.org/wiki/Ridge_regression)."
   ]
  },
  {
   "cell_type": "code",
   "execution_count": null,
   "metadata": {},
   "outputs": [],
   "source": [
    "class LinReg():\n",
    "    \n",
    "    def __init__(self, c:int = 0):\n",
    "        '''\n",
    "        Class for linear regression.\n",
    "        \n",
    "        @Params:\n",
    "            c... parameter for ridge regression\n",
    "        '''\n",
    "        # TODO: create attributes: c, theta \n",
    "        pass\n",
    "    \n",
    "    def fit(self, X:np.ndarray, Y:np.ndarray) -> None:\n",
    "        '''\n",
    "        Learns the parameters for a linear regression task.\n",
    "        \n",
    "        @Params:\n",
    "            X... n x m matrix\n",
    "            Y... vector of length m\n",
    "        '''\n",
    "        \n",
    "        # TODO: estimate theta\n",
    "        pass\n",
    "        \n",
    "    def predict(self, X:np.ndarray) -> np.ndarray:\n",
    "        '''\n",
    "        Using learned parameters, predicts output for given X.\n",
    "        \n",
    "        @Params:\n",
    "            X... n x m matrix\n",
    "            Y... vector of length m\n",
    "        '''\n",
    "        \n",
    "        # TODO: predict labels\n",
    "        pass\n",
    "    "
   ]
  },
  {
   "cell_type": "markdown",
   "metadata": {},
   "source": [
    "### Task 7\n",
    "\n",
    "First we want to predict the `price` of a diamond solely from the variable `carat`. \n",
    "Make a scatter plot of `carat` vs `price` using matplotlib. Label the axes and give the plot a title.\n",
    "\n",
    "Use the standardized dataset."
   ]
  },
  {
   "cell_type": "code",
   "execution_count": null,
   "metadata": {
    "scrolled": true
   },
   "outputs": [],
   "source": [
    "# TODO: display data in scatter plot"
   ]
  },
  {
   "cell_type": "markdown",
   "metadata": {},
   "source": [
    "### Task 8\n",
    "\n",
    "Set up the design matrix and use your class to estimate $\\theta$ on the dataset.\n",
    "Note, that the design matrix does **not** need the vector of ones, since we standardized the dataset.\n",
    "\n",
    "Plot the regression line defined by $\\theta$."
   ]
  },
  {
   "cell_type": "code",
   "execution_count": null,
   "metadata": {},
   "outputs": [],
   "source": [
    "# TODO: build design matrix, y\n",
    "\n",
    "# TODO: use Linear Regression\n",
    "\n",
    "# TODO: plot data + regression line"
   ]
  },
  {
   "cell_type": "markdown",
   "metadata": {},
   "source": [
    "### Task 9\n",
    "\n",
    "You can find an implementation of this method in the python module [scikit-learn](https://scikit-learn.org/stable/modules/generated/sklearn.linear_model.LinearRegression.html). Use it and compare your result for the estimation of $\\theta$.\n",
    "\n",
    "**Important:** scikit learn needs the design matrix as a $m \\times n$ matrix (datapoints as rows)."
   ]
  },
  {
   "cell_type": "code",
   "execution_count": null,
   "metadata": {},
   "outputs": [],
   "source": [
    "# TODO: use scikit learn to estimate theta\n",
    "\n",
    "# TODO: compare results"
   ]
  },
  {
   "cell_type": "markdown",
   "metadata": {},
   "source": [
    "### Task 10\n",
    "\n",
    "Now predict the `price` from the variables `carat`, `depth`, `table`, `x`, `y`, `z`.\n",
    "\n",
    "- Estimate $\\theta$ with your class\n",
    "- Estimate $\\theta$ with scikit learn\n",
    "- Compare both estimations"
   ]
  },
  {
   "cell_type": "code",
   "execution_count": null,
   "metadata": {},
   "outputs": [],
   "source": [
    "# TODO: build X, Y\n",
    "\n",
    "# TODO: estimate theta\n",
    "\n",
    "# TODO: estimate theta using scikit-learn + compare"
   ]
  }
 ],
 "metadata": {
  "kernelspec": {
   "display_name": "Python 3 (ipykernel)",
   "language": "python",
   "name": "python3"
  },
  "language_info": {
   "codemirror_mode": {
    "name": "ipython",
    "version": 3
   },
   "file_extension": ".py",
   "mimetype": "text/x-python",
   "name": "python",
   "nbconvert_exporter": "python",
   "pygments_lexer": "ipython3",
   "version": "3.9.12"
  }
 },
 "nbformat": 4,
 "nbformat_minor": 2
}
