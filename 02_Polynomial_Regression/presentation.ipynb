{
 "cells": [
  {
   "cell_type": "code",
   "execution_count": 1,
   "id": "78aa16d7",
   "metadata": {},
   "outputs": [],
   "source": [
    "import numpy as np\n",
    "import matplotlib.pyplot as plt"
   ]
  },
  {
   "cell_type": "code",
   "execution_count": 2,
   "id": "67adf446",
   "metadata": {
    "scrolled": false
   },
   "outputs": [
    {
     "data": {
      "text/plain": [
       "Text(0, 0.5, 'label')"
      ]
     },
     "execution_count": 2,
     "metadata": {},
     "output_type": "execute_result"
    },
    {
     "data": {
      "image/png": "[encoded data removed]",
      "text/plain": [
       "<Figure size 432x288 with 1 Axes>"
      ]
     },
     "metadata": {
      "needs_background": "light"
     },
     "output_type": "display_data"
    }
   ],
   "source": [
    "data = np.array([\n",
    "    [2, 3, 5],\n",
    "    [1, 3, 2]\n",
    "])\n",
    "plt.scatter(data[0], data[1])\n",
    "plt.xlabel('feature')\n",
    "plt.ylabel('label')"
   ]
  },
  {
   "cell_type": "markdown",
   "id": "27f46e68",
   "metadata": {},
   "source": [
    "## Polynomial Regression"
   ]
  },
  {
   "cell_type": "code",
   "execution_count": 11,
   "id": "762ad08c",
   "metadata": {
    "scrolled": true
   },
   "outputs": [
    {
     "data": {
      "text/plain": [
       "(array([[   1,    1,    1],\n",
       "        [   2,    3,    5],\n",
       "        [   4,    9,   25],\n",
       "        [   8,   27,  125],\n",
       "        [  16,   81,  625],\n",
       "        [  32,  243, 3125]]),\n",
       " array([[1],\n",
       "        [3],\n",
       "        [2]]))"
      ]
     },
     "execution_count": 11,
     "metadata": {},
     "output_type": "execute_result"
    }
   ],
   "source": [
    "degree = 5\n",
    "X = np.row_stack([data[0]**i for i in range(degree + 1)])\n",
    "#X = np.vander(data[0], N = degree + 1, increasing=True).T\n",
    "y = data[1].reshape(-1, 1)\n",
    "X, y"
   ]
  },
  {
   "cell_type": "code",
   "execution_count": 12,
   "id": "dd30c69b",
   "metadata": {},
   "outputs": [
    {
     "data": {
      "text/plain": [
       "array([[      3,      10,      38,     160,     722,    3400],\n",
       "       [     10,      38,     160,     722,    3400,   16418],\n",
       "       [     38,     160,     722,    3400,   16418,   80440],\n",
       "       [    160,     722,    3400,   16418,   80440,  397442],\n",
       "       [    722,    3400,   16418,   80440,  397442, 1973320],\n",
       "       [   3400,   16418,   80440,  397442, 1973320, 9825698]])"
      ]
     },
     "execution_count": 12,
     "metadata": {},
     "output_type": "execute_result"
    }
   ],
   "source": [
    "X@X.T"
   ]
  },
  {
   "cell_type": "code",
   "execution_count": 13,
   "id": "51ef426f",
   "metadata": {
    "scrolled": true
   },
   "outputs": [
    {
     "data": {
      "text/plain": [
       "array([[   6],\n",
       "       [  21],\n",
       "       [  81],\n",
       "       [ 339],\n",
       "       [1509],\n",
       "       [7011]])"
      ]
     },
     "execution_count": 13,
     "metadata": {},
     "output_type": "execute_result"
    }
   ],
   "source": [
    "X@y"
   ]
  },
  {
   "cell_type": "code",
   "execution_count": 23,
   "id": "d9d943b1",
   "metadata": {
    "scrolled": true
   },
   "outputs": [
    {
     "data": {
      "text/plain": [
       "(array([[5.99750411e-10],\n",
       "        [2.09879627e-09],\n",
       "        [8.09410649e-09],\n",
       "        [3.38708927e-08],\n",
       "        [1.50755514e-07],\n",
       "        [7.00380663e-07]]),\n",
       " array([[5.99750411e-10],\n",
       "        [2.09879627e-09],\n",
       "        [8.09410649e-09],\n",
       "        [3.38708927e-08],\n",
       "        [1.50755514e-07],\n",
       "        [7.00380663e-07]]))"
      ]
     },
     "execution_count": 23,
     "metadata": {},
     "output_type": "execute_result"
    }
   ],
   "source": [
    "c = 1e10\n",
    "theta_hat1 = np.linalg.solve((X @ X.T) + c*np.eye(X.shape[0]), X @ y) # good\n",
    "theta_hat2 = np.linalg.inv((X @ X.T) + c*np.eye(X.shape[0])) @ X @ y # bad\n",
    "theta_hat1, theta_hat2"
   ]
  },
  {
   "cell_type": "markdown",
   "id": "835e6612",
   "metadata": {},
   "source": [
    "Probe:"
   ]
  },
  {
   "cell_type": "code",
   "execution_count": 19,
   "id": "c3d13a48",
   "metadata": {
    "scrolled": true
   },
   "outputs": [
    {
     "data": {
      "text/plain": [
       "(array([2.]), array([2]))"
      ]
     },
     "execution_count": 19,
     "metadata": {},
     "output_type": "execute_result"
    }
   ],
   "source": [
    "np.dot(X[:,2], theta_hat1), y[2]"
   ]
  },
  {
   "cell_type": "markdown",
   "id": "cf237f6f",
   "metadata": {},
   "source": [
    "## Prediction"
   ]
  },
  {
   "cell_type": "code",
   "execution_count": 24,
   "id": "f369e0cb",
   "metadata": {},
   "outputs": [
    {
     "data": {
      "text/plain": [
       "<matplotlib.legend.Legend at 0x1b4f9990e80>"
      ]
     },
     "execution_count": 24,
     "metadata": {},
     "output_type": "execute_result"
    },
    {
     "data": {
      "image/png": "[encoded data removed]",
      "text/plain": [
       "<Figure size 432x288 with 1 Axes>"
      ]
     },
     "metadata": {
      "needs_background": "light"
     },
     "output_type": "display_data"
    }
   ],
   "source": [
    "x_pred = np.linspace(0, 5, 100)\n",
    "X_pred = np.row_stack([x_pred**i for i in range(degree + 1)])\n",
    "\n",
    "pred1 = X_pred.T@theta_hat1\n",
    "pred2 = X_pred.T@theta_hat2\n",
    "\n",
    "plt.plot(x_pred, pred1, color = 'tab:red', label = 'solve')\n",
    "plt.plot(x_pred, pred2, color = 'tab:green', label = 'inv', linestyle = '--')\n",
    "\n",
    "\n",
    "plt.scatter(data[0], data[1], zorder=2)\n",
    "plt.xlabel('feature')\n",
    "plt.ylabel('label')\n",
    "plt.legend()"
   ]
  }
 ],
 "metadata": {
  "kernelspec": {
   "display_name": "Python 3 (ipykernel)",
   "language": "python",
   "name": "python3"
  },
  "language_info": {
   "codemirror_mode": {
    "name": "ipython",
    "version": 3
   },
   "file_extension": ".py",
   "mimetype": "text/x-python",
   "name": "python",
   "nbconvert_exporter": "python",
   "pygments_lexer": "ipython3",
   "version": "3.9.12"
  }
 },
 "nbformat": 4,
 "nbformat_minor": 5
}
