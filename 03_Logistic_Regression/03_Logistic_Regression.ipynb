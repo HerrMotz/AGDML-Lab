{
 "cells": [
  {
   "cell_type": "markdown",
   "id": "d7622934",
   "metadata": {},
   "source": [
    "# Exercise 3 - Binary Classification with Logistic Regression\n",
    "\n",
    "This exercise is meant to familiarize you with the complete pipeline of solving a machine learning problem. You\n",
    "need to obtain and pre-process the data, develop, implement and train a machine learning model and evaluate it\n",
    "by splitting the data into a train and testset.\n",
    "\n",
    "In the event of a persistent problem, do not hesitate to contact the course instructor under\n",
    "\n",
    "- paul.kahlmeyer@uni-jena.de\n",
    "\n",
    "### Submission\n",
    "- Deadline of submission:\n",
    "        03.05.23 23:59\n",
    "- Submission on [moodle page](https://moodle.uni-jena.de/course/view.php?id=43681)\n",
    "\n",
    "\n",
    "### Help\n",
    "In case you cannot solve a task, you can use the saved values within the `help` directory:\n",
    "- Load arrays with [Numpy](https://numpy.org/doc/stable/reference/generated/numpy.load.html)\n",
    "```\n",
    "np.load('help/array_name.npy')\n",
    "```\n",
    "- Load functions with [Dill](https://dill.readthedocs.io/en/latest/dill.html)\n",
    "```\n",
    "import dill\n",
    "with open('help/some_func.pkl', 'rb') as f:\n",
    "    func = dill.load(f)\n",
    "```\n",
    "\n",
    "to continue working on the other tasks."
   ]
  },
  {
   "cell_type": "markdown",
   "id": "7c781c05",
   "metadata": {},
   "source": [
    "## Data Preparation\n",
    "\n",
    "In the model of **logistic regression**, we have $m$ samples $x_i\\in\\mathbb{R}^n$ with labels $y_i\\in\\{-1,1\\}$.\n",
    "\n",
    "In this exercise, we will use the equivalent formulation with $y_i\\in\\{0,1\\}$.\n",
    "We use the example dataset `data.npy`, where we have 2 dimensional features (first two columns) and a binary label (3rd column).\n",
    "\n",
    "### Task 1\n",
    "Load and split the dataset into samples and labels. Then plot the data with a scatterplot and use different colors for different labels."
   ]
  },
  {
   "cell_type": "code",
   "execution_count": 18,
   "id": "de11b9bf",
   "metadata": {
    "scrolled": true,
    "ExecuteTime": {
     "start_time": "2023-05-01T18:47:28.988749Z",
     "end_time": "2023-05-01T18:47:29.015935Z"
    }
   },
   "outputs": [
    {
     "data": {
      "text/plain": "            0         1    2\n0    4.877768  3.898719  1.0\n1   -1.168093 -0.055554  0.0\n2   -0.689449  1.929739  0.0\n3    0.954291  4.800298  1.0\n4   -0.042257  3.195145  0.0\n..        ...       ...  ...\n495  4.430961  3.342049  1.0\n496  5.140169  4.553132  1.0\n497 -1.726283 -1.149963  0.0\n498 -1.183881  1.093545  0.0\n499  3.332088  6.132153  1.0\n\n[500 rows x 3 columns]",
      "text/html": "<div>\n<style scoped>\n    .dataframe tbody tr th:only-of-type {\n        vertical-align: middle;\n    }\n\n    .dataframe tbody tr th {\n        vertical-align: top;\n    }\n\n    .dataframe thead th {\n        text-align: right;\n    }\n</style>\n<table border=\"1\" class=\"dataframe\">\n  <thead>\n    <tr style=\"text-align: right;\">\n      <th></th>\n      <th>0</th>\n      <th>1</th>\n      <th>2</th>\n    </tr>\n  </thead>\n  <tbody>\n    <tr>\n      <th>0</th>\n      <td>4.877768</td>\n      <td>3.898719</td>\n      <td>1.0</td>\n    </tr>\n    <tr>\n      <th>1</th>\n      <td>-1.168093</td>\n      <td>-0.055554</td>\n      <td>0.0</td>\n    </tr>\n    <tr>\n      <th>2</th>\n      <td>-0.689449</td>\n      <td>1.929739</td>\n      <td>0.0</td>\n    </tr>\n    <tr>\n      <th>3</th>\n      <td>0.954291</td>\n      <td>4.800298</td>\n      <td>1.0</td>\n    </tr>\n    <tr>\n      <th>4</th>\n      <td>-0.042257</td>\n      <td>3.195145</td>\n      <td>0.0</td>\n    </tr>\n    <tr>\n      <th>...</th>\n      <td>...</td>\n      <td>...</td>\n      <td>...</td>\n    </tr>\n    <tr>\n      <th>495</th>\n      <td>4.430961</td>\n      <td>3.342049</td>\n      <td>1.0</td>\n    </tr>\n    <tr>\n      <th>496</th>\n      <td>5.140169</td>\n      <td>4.553132</td>\n      <td>1.0</td>\n    </tr>\n    <tr>\n      <th>497</th>\n      <td>-1.726283</td>\n      <td>-1.149963</td>\n      <td>0.0</td>\n    </tr>\n    <tr>\n      <th>498</th>\n      <td>-1.183881</td>\n      <td>1.093545</td>\n      <td>0.0</td>\n    </tr>\n    <tr>\n      <th>499</th>\n      <td>3.332088</td>\n      <td>6.132153</td>\n      <td>1.0</td>\n    </tr>\n  </tbody>\n</table>\n<p>500 rows × 3 columns</p>\n</div>"
     },
     "execution_count": 18,
     "metadata": {},
     "output_type": "execute_result"
    }
   ],
   "source": [
    "# TODO: Load and split dataset\n",
    "import numpy as np\n",
    "import pandas as pd\n",
    "\n",
    "data = np.load(\"data.npy\")\n",
    "\n",
    "X = data[:, 0:2]\n",
    "Y = data[:, 2]\n",
    "\n",
    "assert data[2,1] == X[2,1]\n",
    "\n",
    "pd.DataFrame(data)"
   ]
  },
  {
   "cell_type": "markdown",
   "id": "f8c299ff",
   "metadata": {},
   "source": [
    "## Model\n"
   ]
  },
  {
   "cell_type": "markdown",
   "id": "2c09782e",
   "metadata": {},
   "source": [
    "\n",
    "The function $\\sigma$ is called the logistic *sigmoid function*:\n",
    "\n",
    "\\begin{align}\n",
    "\\sigma(a) = \\cfrac{1}{1+\\exp(-a)}\\ .\n",
    "\\end{align}\n",
    "\n",
    "\n",
    "###  Task 2\n",
    "Implement a vectorized logistic sigmoid function, i.e. it takes a vector of x-coordinates X and returns a vector of their respective y values. Use it to plot the function between -10 and 10."
   ]
  },
  {
   "cell_type": "code",
   "execution_count": 34,
   "id": "bc3662c2",
   "metadata": {
    "ExecuteTime": {
     "start_time": "2023-05-01T18:52:59.383957Z",
     "end_time": "2023-05-01T18:52:59.471755Z"
    }
   },
   "outputs": [
    {
     "data": {
      "text/plain": "<Figure size 640x480 with 1 Axes>",
      "image/png": "[encoded data removed]"
     },
     "metadata": {},
     "output_type": "display_data"
    }
   ],
   "source": [
    "def sigmoid(X : np.ndarray) -> np.ndarray:\n",
    "    '''\n",
    "    Sigmoid function.\n",
    "    \n",
    "    @Params:\n",
    "        X... array of x\n",
    "        \n",
    "    @Returns:\n",
    "        array of sigmoid(x)\n",
    "    '''\n",
    "    # implement\n",
    "    return 1 / (1 + np.exp(-1 * X))\n",
    "\n",
    "\n",
    "# Plot function from -10 to 10\n",
    "import matplotlib.pyplot as plt\n",
    "\n",
    "_x = np.linspace(-10, 10)\n",
    "_y = sigmoid(_x)\n",
    "\n",
    "plt.plot(_x, _y)\n",
    "\n",
    "plt.show()"
   ]
  },
  {
   "cell_type": "markdown",
   "id": "23c38493",
   "metadata": {},
   "source": [
    "The goal in logistic regression is to find the parameter vector $\\theta\\in\\mathbb{R}^n$, so that \n",
    "\n",
    "\\begin{align}\n",
    "p(y_i=1|x_i,\\theta)&=\\sigma(x_i^T\\theta)\\\\\n",
    "p(y_i=0|x_i,\\theta)&=1-p(y_i=1|x_i,\\theta)\n",
    "\\end{align}\n",
    "\n",
    "fits our data and can be used to predict the label on unseen data (binary classification).\n",
    "\n",
    "\n",
    "With an estimated $\\theta$, a new feature $x\\in\\mathbb{R}^n$ is classified according to:\n",
    "\n",
    "\\begin{align}\n",
    "\\hat{y} = \\begin{cases}\n",
    "1&\\text{, if }p(y=1|x,\\theta)\\geq 0.5\\\\\n",
    "0&\\text{, else}\n",
    "\\end{cases}.\n",
    "\\end{align}\n",
    "\n",
    "Since $\\sigma(0) =  1/(1+\\exp(0)) = 0.5$. This is equivalent to \n",
    "\\begin{align}\n",
    "\\hat{y} = \\begin{cases}\n",
    "1&\\text{, if } x_i^T\\theta \\geq 0\\\\\n",
    "0&\\text{, else}\n",
    "\\end{cases}\n",
    "\\end{align}\n",
    " as noted in the lecture.\n",
    "\n",
    "### Task 3\n",
    "Prepare `X` so that the classification function for an estimated $\\theta$ is [*affine*](https://math.stackexchange.com/questions/275310/what-is-the-difference-between-linear-and-affine-function). Add this affine component at the **first column**."
   ]
  },
  {
   "cell_type": "code",
   "execution_count": null,
   "id": "ef67bbaf",
   "metadata": {},
   "outputs": [],
   "source": [
    "# TODO: Prepare X"
   ]
  },
  {
   "cell_type": "markdown",
   "id": "bc8bf503",
   "metadata": {},
   "source": [
    "### Task 4\n",
    "\n",
    "Implement a `predict` function based on the above definition of probabilities.\n",
    "\n",
    "Test your function with a randomly chosen $\\theta$."
   ]
  },
  {
   "cell_type": "code",
   "execution_count": null,
   "id": "b0e75f28",
   "metadata": {},
   "outputs": [],
   "source": [
    "def predict(X : np.ndarray, theta: np.ndarray) -> np.ndarray:\n",
    "    '''\n",
    "    Predicts Y given X and theta.\n",
    "    \n",
    "    @Params:\n",
    "        X... matrix with datapoints as rows (m x n)\n",
    "        theta... parameter vector (n)\n",
    "        \n",
    "    @Returns:\n",
    "        array of predictions (m)\n",
    "    '''\n",
    "    # TODO: implement\n",
    "    pass\n",
    "\n",
    "# TODO: test function"
   ]
  },
  {
   "cell_type": "markdown",
   "id": "a320e271",
   "metadata": {},
   "source": [
    "## Learning $\\theta$\n",
    "\n",
    "For a given $\\theta$, we can calculate $p(y|x,\\theta)$ and use this probability for classification.\n",
    "To evaluate how well a learned $\\theta$ can be used to classify our data, we define a *loss function*.\n",
    "Here we want to use [binary cross entropy](https://towardsdatascience.com/understanding-binary-cross-entropy-log-loss-a-visual-explanation-a3ac6025181a) given as:\n",
    "\n",
    "\\begin{align}\n",
    "L(\\theta) = -\\cfrac{1}{m}\\sum_{i=1}^m y_i\\log(p(y_i=1|x_i,\\theta))+(1-y_i)\\log(1-p(y_i=1|x_i,\\theta))\n",
    "\\end{align}\n",
    "\n",
    "Often it is convenient to have multiple metrics at hand. In classification problems, the *accuracy* of a\n",
    "prediction is defined as the percentage of correctly classified features. In the case of logistic regression, this corresponds to \n",
    "\n",
    "\\begin{align}\n",
    "Acc(\\theta) = \\cfrac{1}{m}\\sum_{i=1}^m y_i \\hat{y_i} + (1-y_i)(1-\\hat{y_i})\n",
    "\\end{align}\n",
    "where $\\hat{y_i}$ is the prediction for $x_i$.\n",
    "\n",
    "As our model becomes better, we expect the accuracy to increase and the loss to decrease.  \n",
    "\n",
    "### Task 5\n",
    "Implement the binary cross entropy and the accuracy for logistic regression. \n",
    "\n",
    "Again, test your functions with a randomly chosen $\\theta$."
   ]
  },
  {
   "cell_type": "code",
   "execution_count": null,
   "id": "12c3c7c4",
   "metadata": {},
   "outputs": [],
   "source": [
    "def cross_entropy_loss(X : np.ndarray, Y : np.ndarray, theta : np.ndarray) -> float:\n",
    "    '''\n",
    "    Binary cross entropy loss.\n",
    "    \n",
    "    @Params:\n",
    "        X... matrix with datapoints as rows (m x n)\n",
    "        Y... array of true labels (n)\n",
    "        theta... parameter vector (n)\n",
    "        \n",
    "    @Returns:\n",
    "        binary cross entropy\n",
    "    '''\n",
    "    # TODO: implement\n",
    "    pass\n",
    "\n",
    "def acc(X : np.ndarray, Y : np.ndarray, theta : np.ndarray) -> float:\n",
    "    '''\n",
    "    Accuracy.\n",
    "    \n",
    "    @Params:\n",
    "        X... matrix with datapoints as rows (m x n)\n",
    "        Y... array of true labels (n)\n",
    "        theta... parameter vector (n)\n",
    "        \n",
    "    @Returns:\n",
    "        binary cross entropy\n",
    "    '''\n",
    "    \n",
    "    # TODO: implement\n",
    "    pass\n",
    "\n",
    "# TODO: test function"
   ]
  },
  {
   "cell_type": "markdown",
   "id": "5d3099ff",
   "metadata": {},
   "source": [
    "Given the loss function $L(\\theta)$, we want to minimize this function with respect to the parameters $\\theta$, that is we are looking for\n",
    "\n",
    "\\begin{align}\n",
    "    \\text{argmin}_\\theta L(\\theta)\n",
    "\\end{align}\n",
    "\n",
    "However, since this is a highly nonlinear optimization problem, we use an iterative approach that starts with an initial estimate for $\\theta$ and approaches the solution at each iteration step. \n",
    "The most simple approach is to take the gradient\n",
    "$\\nabla L(\\theta)$ of $L(\\theta)$ with respect to $\\theta$ and walk into direction of the negative gradient. \n",
    "This method is called gradient-descent.\n",
    "\n",
    "### Task 6\n",
    "\n",
    "Find out $\\nabla L(\\theta) = \\cfrac{d L}{d \\theta}$ and implement this function.\n",
    "The resulting function takes features $X$, labels $Y$ and $\\theta$ as input and outputs a gradient $\\nabla L(\\theta)\\in\\mathbb{R}^n$.\n",
    "\n",
    "Again, test your function with a randomly chosen $\\theta$."
   ]
  },
  {
   "cell_type": "markdown",
   "id": "ab98aba6",
   "metadata": {},
   "source": [
    "Solution:\n",
    "\\begin{align}\n",
    "\\cfrac{\\partial L}{\\partial \\theta} =\\cfrac{1}{m}\\sum_{i=1}^m x_i (\\sigma(x_i^T\\theta)-y_i)\n",
    "\\end{align}"
   ]
  },
  {
   "cell_type": "code",
   "execution_count": null,
   "id": "0c0a5ccc",
   "metadata": {},
   "outputs": [],
   "source": [
    "def cross_entropy_gradient(X : np.ndarray, Y : np.ndarray, theta : np.ndarray):\n",
    "    '''\n",
    "    Gradient of binary crossentropy. wrt theta.\n",
    "    \n",
    "    @Params:\n",
    "        X... matrix with datapoints as rows (m x n)\n",
    "        Y... array of true labels (n)\n",
    "        theta... parameter vector (n)\n",
    "        \n",
    "    @Returns:\n",
    "        gradient at point theta\n",
    "    '''\n",
    "    # TODO: implement\n",
    "    pass\n",
    "\n",
    "# TODO: test function"
   ]
  },
  {
   "cell_type": "markdown",
   "id": "b9f6b037",
   "metadata": {},
   "source": [
    "### Task 7\n",
    "Implement the fit function for the following Logistic Regression class:\n",
    "\n",
    " 1. (randomly) choose initial $\\hat{\\theta}$\n",
    " 2. update $\\hat{\\theta} \\leftarrow \\hat{\\theta} -\\eta\\nabla L(\\hat{\\theta})$\n",
    " 3. repeat 2. until a maximum number of iterations $\\lambda$ (parameter `max_it`) is reached or the loss did not change more than $\\varepsilon$ (parameter `eps`).\n",
    " \n",
    "The hyperparameter $\\eta$ is also called *learning rate* (parameter `lr`).\n",
    "\n",
    "Additionaly track the losses and accuracies that occur during the iterations of gradient descend. \n",
    "\n",
    "Test your class (on the prepared data from above) and plot the accuracies and losses over the iterations."
   ]
  },
  {
   "cell_type": "code",
   "execution_count": null,
   "id": "eeffefae",
   "metadata": {
    "scrolled": true
   },
   "outputs": [],
   "source": [
    "class LogReg():\n",
    "    def __init__(self):\n",
    "        '''\n",
    "        Class for Logistic regression.\n",
    "        '''\n",
    "        self.theta = None # parameter vector\n",
    "        self.accs = [] # accuracies\n",
    "        self.losses = [] # losses\n",
    "\n",
    "\n",
    "    def predict(self, X : np.ndarray) -> np.ndarray:\n",
    "        '''\n",
    "        Predicts Y given X and learned theta.\n",
    "\n",
    "        @Params:\n",
    "            X... matrix with datapoints as rows (m x n)\n",
    "\n",
    "        @Returns:\n",
    "            array of predictions (m)\n",
    "        '''\n",
    "        return predict(X, self.theta)\n",
    "    \n",
    "    \n",
    "    def fit(self, X : np.ndarray, Y : np.ndarray, lr : float = 1e-2, max_it : int = 1000, eps : float = 1e-5) -> None:\n",
    "        '''\n",
    "        Gradient descend for binary crossentropy.\n",
    "\n",
    "        @Params:\n",
    "            X... matrix with datapoints as rows (m x n)\n",
    "            Y... array of true labels (n)\n",
    "            lr... learnrate, sets stepsize for descend\n",
    "            max_it... maximum number of steps\n",
    "            eps... abort criterium for early stopping (loss did not change more than this)\n",
    "\n",
    "        '''\n",
    "        \n",
    "        # TODO: implement\n",
    "        pass\n",
    "                \n",
    "# TODO: test class + plot losses/accuracies"
   ]
  },
  {
   "cell_type": "markdown",
   "id": "86c9fa24",
   "metadata": {},
   "source": [
    "### Task 8\n",
    "\n",
    "So far, we used the whole dataset for fitting the `LogReg` class.\n",
    "\n",
    "- Use [scikit-learn](https://scikit-learn.org/stable/modules/generated/sklearn.model_selection.train_test_split.html) to split the dataset into train (75%) and testset (25%).\n",
    "- Fit the Logistic Regression model on the trainset and calculate the final accuracies on the train and testset. \n",
    "- Experiment with the hyperparameters for fit, to get a good result."
   ]
  },
  {
   "cell_type": "code",
   "execution_count": null,
   "id": "8e633e74",
   "metadata": {},
   "outputs": [],
   "source": [
    "# TODO: Split data into train and test data\n",
    "\n",
    "# TODO: apply logistic regression\n",
    "\n",
    "# TODO: determine train and test accuracy"
   ]
  },
  {
   "cell_type": "markdown",
   "id": "f61d6109",
   "metadata": {},
   "source": [
    "## Visualization\n",
    "\n",
    "Next we want to visualize our classifier. To to this, we want to visualize the *decision boundary* defined by $\\hat{\\theta}$.\n",
    "\n",
    "The decision boundary is defined as \n",
    "$\n",
    "\\{x\\in\\mathbb{R}^n: p(y=1|x)=0.5\\}\n",
    "$\n",
    "or as in the lecture:\n",
    "$\\{x\\in \\{1\\} \\times \\mathbb{R}^n: x^T\\hat{\\theta}=0\\}$\n",
    "\n",
    "\n",
    "### Task 9\n",
    "\n",
    "Implement a function `plot_dec_boundary` that visualizes the data and the regression line for 2 dimensional samples $X$ and an estimated $\\hat{\\theta}$.\n",
    "\n",
    "Test this function with the $\\hat{\\theta}$ estimated in Task 8."
   ]
  },
  {
   "cell_type": "code",
   "execution_count": null,
   "id": "c95ebbcc",
   "metadata": {
    "scrolled": false
   },
   "outputs": [],
   "source": [
    "def plot_dec_boundary(X : np.ndarray, Y : np.ndarray, theta : np.ndarray):    \n",
    "    '''\n",
    "    Plots the decision boundary for 2D logistic regression task.\n",
    "    \n",
    "    @Params:\n",
    "        X... matrix with datapoints as rows (m x 2)\n",
    "        Y... array of true labels (m)\n",
    "        theta... parameter vector (2)\n",
    "    '''\n",
    "    \n",
    "    # TODO: plot data and decision boundary\n",
    "    pass\n",
    "    \n",
    "# TODO: test function"
   ]
  },
  {
   "cell_type": "markdown",
   "id": "819ce71c",
   "metadata": {},
   "source": [
    "### Task 10\n",
    "\n",
    "Use the [implementation from scikit-learn](https://scikit-learn.org/stable/modules/generated/sklearn.linear_model.LogisticRegression.html) to train a logistic regressor.\n",
    "\n",
    "Visualize the regression line that you obtain with scikit learn."
   ]
  },
  {
   "cell_type": "code",
   "execution_count": null,
   "id": "b3547438",
   "metadata": {
    "scrolled": false
   },
   "outputs": [],
   "source": [
    "# TODO: estimate theta with scikit-learn\n",
    "\n",
    "# TODO: plot regression line with data"
   ]
  }
 ],
 "metadata": {
  "interpreter": {
   "hash": "b39a671858085d70125f4f28cb6256d6037eab582b2bde2ee45c6eac63f37da5"
  },
  "kernelspec": {
   "display_name": "Python 3 (ipykernel)",
   "language": "python",
   "name": "python3"
  },
  "language_info": {
   "codemirror_mode": {
    "name": "ipython",
    "version": 3
   },
   "file_extension": ".py",
   "mimetype": "text/x-python",
   "name": "python",
   "nbconvert_exporter": "python",
   "pygments_lexer": "ipython3",
   "version": "3.9.12"
  }
 },
 "nbformat": 4,
 "nbformat_minor": 5
}
