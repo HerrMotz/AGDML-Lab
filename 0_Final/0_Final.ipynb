{
 "cells": [
  {
   "cell_type": "markdown",
   "source": [
    "# AGDML-Lab Final\n",
    "Task: Sentiment Analysis of Twitter messages\n",
    "\n",
    "## Preprocessing\n",
    "For preprocessing I used NLTK library. I removed non-alphabetic characters, made words lowercase, removed mentions of other users, removed stopwords and lemmatized each word to its lemma. This should make the data more consistent and easier to work with. My assumption is: most of the spelling mistakes and special characters are unnecessary for sentiment analysis.\n",
    "\n",
    "The regex will most likely match stuff that we do not want removed, but that is a tradeoff we accept."
   ],
   "metadata": {
    "collapsed": false
   }
  },
  {
   "cell_type": "code",
   "execution_count": 136,
   "outputs": [
    {
     "data": {
      "text/plain": "'NVIDIA GeForce GTX 1060 6GB'"
     },
     "execution_count": 136,
     "metadata": {},
     "output_type": "execute_result"
    }
   ],
   "source": [
    "import pandas as pd\n",
    "import numpy as np\n",
    "from tqdm.auto import tqdm\n",
    "import torch\n",
    "\n",
    "N = 1000\n",
    "\n",
    "tqdm.pandas()\n",
    "torch.cuda.get_device_name(0)"
   ],
   "metadata": {
    "collapsed": false,
    "ExecuteTime": {
     "end_time": "2023-07-28T20:08:54.918797400Z",
     "start_time": "2023-07-28T20:08:54.867208500Z"
    }
   }
  },
  {
   "cell_type": "markdown",
   "source": [
    "The dataset is evenly balanced. There is no bias towards negative or positive messages."
   ],
   "metadata": {
    "collapsed": false
   }
  },
  {
   "cell_type": "code",
   "execution_count": 137,
   "outputs": [
    {
     "name": "stdout",
     "output_type": "stream",
     "text": [
      "{'no', 'further', 'from', 'they', 'or', 'herself', 'there', 'too', 'the', 'can', 'hadn', 'won', \"shouldn't\", 'an', 'him', 'did', 'my', 'where', \"hasn't\", 'all', 'you', 'up', 'then', \"isn't\", 'ain', 'only', 'own', 'through', 'below', 'hasn', 's', 'because', 've', \"should've\", 'both', \"mustn't\", \"you'd\", 'a', 'ma', 'what', 'other', 'should', 'doing', \"doesn't\", 'at', \"needn't\", 'any', \"mightn't\", 'yourself', 'why', 'theirs', 'not', 'this', 'which', 'in', 'over', 'been', 'does', 'as', 'few', 'here', 'most', 'me', 'whom', 'm', 't', 'isn', 'were', \"you're\", 'was', 'when', 'yourselves', 'those', 'himself', 'once', \"couldn't\", 'o', 'themselves', 'of', 'her', 'haven', 'wasn', 'your', 'nor', 'between', \"aren't\", 'our', 'wouldn', \"won't\", \"that'll\", 'do', 'aren', 'each', 'some', 'such', 'same', 'ours', \"you've\", 'them', \"shan't\", 'had', 'its', 'd', 'out', 'we', 'is', 'so', 're', 'll', 'he', \"weren't\", 'having', 'than', 'just', 'itself', 'during', 'and', 'have', 'am', 'before', \"you'll\", 'shan', 'mightn', 'if', 'off', 'y', 'myself', 'mustn', \"it's\", 'shouldn', \"she's\", 'don', 'more', 'into', 'be', \"don't\", 'down', 'that', \"haven't\", 'being', 'on', 'yours', 'has', 'while', 'it', 'to', 'hers', 'now', 'about', 'these', 'doesn', \"wasn't\", 'above', 'ourselves', 'how', 'after', 'she', 'but', 'couldn', 'for', 'again', 'by', 'against', 'who', 'weren', 'i', 'needn', 'his', 'under', \"hadn't\", 'until', \"didn't\", 'didn', 'with', 'are', 'their', 'will', \"wouldn't\"}\n"
     ]
    },
    {
     "name": "stderr",
     "output_type": "stream",
     "text": [
      "[nltk_data] Downloading package stopwords to\n",
      "[nltk_data]     C:\\Users\\frand\\AppData\\Roaming\\nltk_data...\n",
      "[nltk_data]   Package stopwords is already up-to-date!\n",
      "[nltk_data] Downloading package wordnet to\n",
      "[nltk_data]     C:\\Users\\frand\\AppData\\Roaming\\nltk_data...\n",
      "[nltk_data]   Package wordnet is already up-to-date!\n",
      "[nltk_data] Downloading package words to\n",
      "[nltk_data]     C:\\Users\\frand\\AppData\\Roaming\\nltk_data...\n",
      "[nltk_data]   Package words is already up-to-date!\n"
     ]
    }
   ],
   "source": [
    "# preprocessing text messages\n",
    "import re\n",
    "import nltk\n",
    "from nltk.corpus import stopwords, words\n",
    "from nltk.stem import WordNetLemmatizer\n",
    "\n",
    "# download stopwords and wordnet\n",
    "nltk.download('stopwords')\n",
    "nltk.download('wordnet')\n",
    "nltk.download('words')\n",
    "\n",
    "# create object of WordNetLemmatizer\n",
    "wordnet_lemmatizer = WordNetLemmatizer()\n",
    "\n",
    "# this allows very\n",
    "stopwords = set(stopwords.words('english'))\n",
    "stopwords.remove('very')\n",
    "print(stopwords)\n",
    "\n",
    "correct_words = [str.lower(w) for w in words.words()]\n",
    "\n",
    "# BEGIN SOURCE http://norvig.com/spell-correct.html\n",
    "from collections import Counter\n",
    "\n",
    "WORDS = Counter(correct_words)\n",
    "\n",
    "def P(word, N=sum(WORDS.values())):\n",
    "    \"\"\"Probability of `word`.\"\"\"\n",
    "    return WORDS[word] / N\n",
    "\n",
    "def correction(word):\n",
    "    \"\"\"Most probable spelling correction for word.\"\"\"\n",
    "    return max(candidates(word), key=P)\n",
    "\n",
    "def candidates(word):\n",
    "    \"\"\"Generate possible spelling corrections for word.\"\"\"\n",
    "    return (known([word]) or known(edits1(word)) or known(edits2(word)) or [word])\n",
    "\n",
    "def known(words):\n",
    "    \"\"\"The subset of `words` that appear in the dictionary of WORDS.\"\"\"\n",
    "    return set(w for w in words if w in words)\n",
    "\n",
    "def edits1(word):\n",
    "    \"\"\"All edits that are one edit away from `word`.\"\"\"\n",
    "    letters    = 'abcdefghijklmnopqrstuvwxyz'\n",
    "    splits     = [(word[:i], word[i:])    for i in range(len(word) + 1)]\n",
    "    deletes    = [L + R[1:]               for L, R in splits if R]\n",
    "    transposes = [L + R[1] + R[0] + R[2:] for L, R in splits if len(R)>1]\n",
    "    replaces   = [L + c + R[1:]           for L, R in splits if R for c in letters]\n",
    "    inserts    = [L + c + R               for L, R in splits for c in letters]\n",
    "    return set(deletes + transposes + replaces + inserts)\n",
    "\n",
    "def edits2(word):\n",
    "    \"\"\"All edits that are two edits away from `word`.\"\"\"\n",
    "    return (e2 for e1 in edits1(word) for e2 in edits1(e1))\n",
    "# END SOURCE\n",
    "\n",
    "# function to clean sentences\n",
    "def clean_text(sentence):\n",
    "    # remove mentions of other users\n",
    "    sentence = re.sub('\\B@[._a-zA-Z0-9]{3,24}', '', sentence)\n",
    "    \n",
    "    # rewrite words in all caps to \"very\" followed by word\n",
    "    # text = re.sub('([A-Z]+)', lambda x: 'very ' + x.group(0).lower(), text)\n",
    "    \n",
    "    # make words lowercase, because Go and go will be considered as two words\n",
    "    sentence = sentence.lower()\n",
    "    \n",
    "    # detect laughing\n",
    "    sentence = re.sub(r'\\b(?:a*(?:ha)+h?|(?:l+o+)+l+)\\b', ' laughing ', sentence)\n",
    "    \n",
    "    # remove multiple dots\n",
    "    sentence = re.sub(r'(\\.)\\1{2,}', '\\1', sentence)\n",
    "    \n",
    "    # remove URLs from text (prefer safely!)\n",
    "    sentence = re.sub('https?:\\/\\/(www\\.)?[-a-zA-Z0-9@:%._\\+~#=]{2,256}\\.[a-z]{2,4}\\b([-a-zA-Z0-9@:%_\\+.~#?&//=]*)', ' ', sentence)\n",
    "    \n",
    "    # remove everything but letters\n",
    "    sentence = re.sub('[^a-z]', ' ', sentence)\n",
    "    \n",
    "    # split the sentences into words\n",
    "    _words = sentence.split() \n",
    "    \n",
    "    for i in range(len(_words)):\n",
    "        # remove words with length 1\n",
    "        if len(_words[i]) == 1:\n",
    "            _words[i] = ''\n",
    "    \n",
    "        # remove repetition of letters\n",
    "        _words[i] = re.sub(r'([a-z])\\1{3,}', r'\\1', _words[i])\n",
    "    \n",
    "        # prepend very if there were repeating letters\n",
    "        # if _tmp[1] > 0:\n",
    "        #     words[i] = \"very \" + _tmp[0] // TODO if this is added also add back _tmp variable and rewrite sub to subn\n",
    "    \n",
    "    # remove stopwords like to, and, or etc.\n",
    "    # _words = [word for word in _words if word not in stopwords]\n",
    "    \n",
    "    # spell-check\n",
    "    _words = [correction(word) for word in _words]\n",
    "    \n",
    "    # remove words if they are unknown\n",
    "    # _words = ['' if word not in WORDS else word for word in _words]\n",
    "    \n",
    "    # lemmatize each word\n",
    "    _words = [wordnet_lemmatizer.lemmatize(word) for word in _words]\n",
    "    \n",
    "    # join words to make sentence\n",
    "    sentence = ' '.join(_words)\n",
    "    # remove multiple spaces\n",
    "    sentence = re.sub('\\s+', ' ', sentence)\n",
    "    sentence = sentence.strip()\n",
    "    \n",
    "    return sentence"
   ],
   "metadata": {
    "collapsed": false,
    "ExecuteTime": {
     "end_time": "2023-07-28T20:08:55.047408900Z",
     "start_time": "2023-07-28T20:08:54.878798300Z"
    }
   }
  },
  {
   "cell_type": "code",
   "execution_count": 138,
   "outputs": [
    {
     "data": {
      "text/plain": "                                                 raw   \n0  sooooooooooo full .... BBQ was great ..... lov...  \\\n1                            @symphnysldr lets do it   \n2  :3 Up and ready for a full day of doing noithi...   \n3  @carswani yeh i need to do another,now that im...   \n4  SCOTUS decides that having convicted someone r...   \n\n                                             cleaned  \n0                    so full bbq wa great lovely day  \n1                                          let do it  \n2  up and ready for full day of doing noithing ap...  \n3  yeh need to do another now that im like and ha...  \n4  scotus decides that having convicted someone r...  ",
      "text/html": "<div>\n<style scoped>\n    .dataframe tbody tr th:only-of-type {\n        vertical-align: middle;\n    }\n\n    .dataframe tbody tr th {\n        vertical-align: top;\n    }\n\n    .dataframe thead th {\n        text-align: right;\n    }\n</style>\n<table border=\"1\" class=\"dataframe\">\n  <thead>\n    <tr style=\"text-align: right;\">\n      <th></th>\n      <th>raw</th>\n      <th>cleaned</th>\n    </tr>\n  </thead>\n  <tbody>\n    <tr>\n      <th>0</th>\n      <td>sooooooooooo full .... BBQ was great ..... lov...</td>\n      <td>so full bbq wa great lovely day</td>\n    </tr>\n    <tr>\n      <th>1</th>\n      <td>@symphnysldr lets do it</td>\n      <td>let do it</td>\n    </tr>\n    <tr>\n      <th>2</th>\n      <td>:3 Up and ready for a full day of doing noithi...</td>\n      <td>up and ready for full day of doing noithing ap...</td>\n    </tr>\n    <tr>\n      <th>3</th>\n      <td>@carswani yeh i need to do another,now that im...</td>\n      <td>yeh need to do another now that im like and ha...</td>\n    </tr>\n    <tr>\n      <th>4</th>\n      <td>SCOTUS decides that having convicted someone r...</td>\n      <td>scotus decides that having convicted someone r...</td>\n    </tr>\n  </tbody>\n</table>\n</div>"
     },
     "execution_count": 138,
     "metadata": {},
     "output_type": "execute_result"
    }
   ],
   "source": [
    "to_be_cleaned_examples = [\n",
    "    \"sooooooooooo full .... BBQ was great ..... lovely day ! \",\n",
    "    \"@symphnysldr lets do it\",\n",
    "    \":3 Up and ready for a full day of doing noithing. Apart from finishing new picture, animation, more guitar, tiding my rooms. And homework \",\n",
    "    \"@carswani yeh i need to do another,now that im like u and have sum white face paint..but um..im ok..just tired\",\n",
    "    \"SCOTUS decides that having convicted someone removes their rights to bring evidence that could prove their innocence.  http://tr.im/oXqj\"\n",
    "]\n",
    "cleaned_examples = [clean_text(c) for c in to_be_cleaned_examples]\n",
    "\n",
    "pd.DataFrame({'raw': to_be_cleaned_examples, 'cleaned': cleaned_examples})"
   ],
   "metadata": {
    "collapsed": false,
    "ExecuteTime": {
     "end_time": "2023-07-28T20:08:55.048410700Z",
     "start_time": "2023-07-28T20:08:55.001910400Z"
    }
   }
  },
  {
   "cell_type": "code",
   "execution_count": 139,
   "outputs": [
    {
     "data": {
      "text/plain": "('positive messages', 0.499076, 'negative messages', 0.5009239999999999)"
     },
     "execution_count": 139,
     "metadata": {},
     "output_type": "execute_result"
    }
   ],
   "source": [
    "# read training data\n",
    "df = pd.read_csv('data.csv')\n",
    "\n",
    "# read validation data\n",
    "df_test = pd.read_csv('data_valid.csv')\n",
    "\n",
    "ct = len(df.loc[df['target'] == 1]) / len(df)\n",
    "\"positive messages\", ct, \"negative messages\", 1-ct "
   ],
   "metadata": {
    "collapsed": false,
    "ExecuteTime": {
     "end_time": "2023-07-28T20:08:55.824938800Z",
     "start_time": "2023-07-28T20:08:55.011811700Z"
    }
   }
  },
  {
   "cell_type": "code",
   "execution_count": 140,
   "outputs": [
    {
     "data": {
      "text/plain": "  0%|          | 0/500000 [00:00<?, ?it/s]",
      "application/vnd.jupyter.widget-view+json": {
       "version_major": 2,
       "version_minor": 0,
       "model_id": "31127408f27140f79681347a348c9bf6"
      }
     },
     "metadata": {},
     "output_type": "display_data"
    },
    {
     "data": {
      "text/plain": "  0%|          | 0/100000 [00:00<?, ?it/s]",
      "application/vnd.jupyter.widget-view+json": {
       "version_major": 2,
       "version_minor": 0,
       "model_id": "7fab6c5a45df40709d4b31162e64db05"
      }
     },
     "metadata": {},
     "output_type": "display_data"
    }
   ],
   "source": [
    "# drop rows with missing values\n",
    "df = df.dropna()\n",
    "df_test = df_test.dropna()\n",
    "\n",
    "# clean text data\n",
    "df['text'] = df['text'].progress_apply(clean_text)\n",
    "df_test['text'] = df_test['text'].progress_apply(clean_text)\n",
    "\n",
    "# drop rows with missing values\n",
    "df = df.dropna()\n",
    "df_test = df_test.dropna()\n",
    "\n",
    "df.to_csv('data_cleaned.csv', index=False)    \n",
    "df_test.to_csv('data_valid_cleaned.csv', index=False)"
   ],
   "metadata": {
    "collapsed": false,
    "ExecuteTime": {
     "end_time": "2023-07-28T20:09:51.321017Z",
     "start_time": "2023-07-28T20:08:55.807938800Z"
    }
   }
  },
  {
   "cell_type": "code",
   "execution_count": 141,
   "outputs": [
    {
     "data": {
      "text/plain": "[('statisitic', 1),\n ('quuens', 1),\n ('spcy', 1),\n ('talis', 1),\n ('razzing', 1),\n ('wrost', 1),\n ('daddyduty', 1),\n ('horroble', 1),\n ('exasperation', 1),\n ('imnotjoanna', 1),\n ('rtb', 1),\n ('balum', 1),\n ('unforshenetlee', 1),\n ('afterwardst', 1),\n ('deceptive', 1),\n ('muthafucker', 1),\n ('hovadoposrate', 1),\n ('thehhee', 1),\n ('palapa', 1),\n ('pice', 1),\n ('mahoney', 1),\n ('xkame', 1),\n ('munab', 1),\n ('milkshakefail', 1),\n ('tomfelton', 1),\n ('klinsmann', 1),\n ('navin', 1),\n ('matthartley', 1),\n ('extendable', 1),\n ('caran', 1),\n ('castlebar', 1),\n ('inpound', 1),\n ('ybjf', 1),\n ('phocking', 1),\n ('hasing', 1),\n ('meck', 1),\n ('remeniscing', 1),\n ('kxhz', 1),\n ('showr', 1),\n ('shael', 1),\n ('codechef', 1),\n ('kleineee', 1),\n ('hppnd', 1),\n ('hurrrayyy', 1),\n ('pharoh', 1),\n ('pae', 1),\n ('crochetting', 1),\n ('couuld', 1),\n ('jbc', 1),\n ('btlgy', 1),\n ('yeeew', 1),\n ('frwends', 1),\n ('prospecting', 1),\n ('cheekies', 1),\n ('ugss', 1),\n ('haahahahah', 1),\n ('oatbran', 1),\n ('awakke', 1),\n ('cleannning', 1),\n ('rebeccachadwell', 1),\n ('aromatic', 1),\n ('burritto', 1),\n ('iyso', 1),\n ('dondoniv', 1),\n ('chloechloechloechloechloechloechloechloechloechloechloe', 1),\n ('colaborate', 1),\n ('balley', 1),\n ('monkees', 1),\n ('hortonss', 1),\n ('phonetic', 1),\n ('dier', 1),\n ('readed', 1),\n ('tkae', 1),\n ('whydoyouneedorganicfood', 1),\n ('wteff', 1),\n ('flyaway', 1),\n ('rotofufi', 1),\n ('lirby', 1),\n ('jrath', 1),\n ('cripe', 1),\n ('dankesch', 1),\n ('tonitght', 1),\n ('formatter', 1),\n ('hamcrest', 1),\n ('independtly', 1),\n ('bapps', 1),\n ('plleasseee', 1),\n ('obl', 1),\n ('ganesh', 1),\n ('protos', 1),\n ('jfkdsjfljdfs', 1),\n ('brl', 1),\n ('colinmunroe', 1),\n ('onebodes', 1),\n ('cfu', 1),\n ('mrsteve', 1),\n ('taecyeon', 1),\n ('rocklahoma', 1),\n ('bbjave', 1),\n ('wcvf', 1),\n ('fredoniaradio', 1),\n ('yec', 1),\n ('whoaahh', 1),\n ('vickyt', 1),\n ('swissknights', 1),\n ('spreadtheword', 1),\n ('airwolf', 1),\n ('kjj', 1),\n ('yogev', 1),\n ('finalcrit', 1),\n ('quedar', 1),\n ('invertabrates', 1),\n ('yrjpn', 1),\n ('dhamma', 1),\n ('sosmething', 1),\n ('nowdagow', 1),\n ('idaguy', 1),\n ('godagot', 1),\n ('togdago', 1),\n ('werdagerk', 1),\n ('odagon', 1),\n ('mydaguy', 1),\n ('fodagone', 1),\n ('gigger', 1),\n ('whhhaaahhh', 1),\n ('prado', 1),\n ('peetah', 1),\n ('timthumb', 1),\n ('arabizing', 1),\n ('sbm', 1),\n ('jnl', 1),\n ('headcahe', 1),\n ('halfwitt', 1),\n ('clusterfucked', 1),\n ('prayinggg', 1),\n ('swagnificent', 1),\n ('ywnb', 1),\n ('twittai', 1),\n ('ladilla', 1),\n ('deceleration', 1),\n ('wwhoa', 1),\n ('smartplanet', 1),\n ('youngyonny', 1),\n ('azu', 1),\n ('schooltime', 1),\n ('minutees', 1),\n ('semy', 1),\n ('jdbc', 1),\n ('berthas', 1),\n ('itkog', 1),\n ('jellybee', 1),\n ('noooise', 1),\n ('starfield', 1),\n ('greattwinsthinkalike', 1),\n ('fcf', 1),\n ('grahamcrackers', 1),\n ('ifso', 1),\n ('stickii', 1),\n ('nzspo', 1),\n ('slumderland', 1),\n ('neckwear', 1),\n ('lividthorn', 1),\n ('bummertown', 1),\n ('mcquarrie', 1),\n ('earthcrush', 1),\n ('dlczov', 1),\n ('twitterbff', 1),\n ('aghagahghahghaghag', 1),\n ('whitelaws', 1),\n ('wwwa', 1),\n ('alarabiya', 1),\n ('canale', 1),\n ('stealkillanddestroy', 1),\n ('sirdaniels', 1),\n ('dayworkweek', 1),\n ('cyhd', 1),\n ('dirtbike', 1),\n ('danboard', 1),\n ('tishas', 1),\n ('twittermaniacs', 1),\n ('illinoise', 1),\n ('gojiwa', 1),\n ('hinstell', 1),\n ('zizta', 1),\n ('martyrdom', 1),\n ('pllleeaaseee', 1),\n ('memorymagazine', 1),\n ('wondrg', 1),\n ('saranelsondesign', 1),\n ('listfied', 1),\n ('thechinastudy', 1),\n ('burpo', 1),\n ('bgvub', 1),\n ('perpetuates', 1),\n ('wwoz', 1),\n ('reemergence', 1),\n ('vionnet', 1),\n ('wcgao', 1),\n ('twitterfreund', 1),\n ('whaayee', 1),\n ('pfizer', 1),\n ('dispensing', 1),\n ('lwns', 1),\n ('lws', 1),\n ('poweder', 1),\n ('optometry', 1),\n ('mesqv', 1),\n ('ahir', 1),\n ('crazynails', 1),\n ('shooowz', 1),\n ('makakakita', 1),\n ('tamang', 1),\n ('ule', 1),\n ('dwek', 1),\n ('xbrjb', 1),\n ('mahea', 1),\n ('kneeler', 1),\n ('prie', 1),\n ('dieu', 1),\n ('abrianna', 1),\n ('alyanna', 1),\n ('machis', 1),\n ('pawel', 1),\n ('chancne', 1),\n ('deeemmi', 1),\n ('necolebitchie', 1),\n ('superseeded', 1),\n ('lmaorh', 1),\n ('bernardo', 1),\n ('gumballs', 1),\n ('whoose', 1),\n ('pokie', 1),\n ('seemore', 1),\n ('erfolg', 1),\n ('paof', 1),\n ('tarix', 1),\n ('jabrix', 1),\n ('tukonen', 1),\n ('maddin', 1),\n ('grillparty', 1),\n ('hout', 1),\n ('ihmfl', 1),\n ('noassetol', 1),\n ('kylester', 1),\n ('misroute', 1),\n ('bamberg', 1),\n ('shox', 1),\n ('eckkky', 1),\n ('whorlando', 1),\n ('aights', 1),\n ('radiosuzy', 1),\n ('twittersex', 1),\n ('shoppaholic', 1),\n ('longeerr', 1),\n ('phoebs', 1),\n ('mmfq', 1),\n ('googing', 1),\n ('sickkenning', 1),\n ('subtler', 1),\n ('ideabounty', 1),\n ('epidsode', 1),\n ('tfeelikeironing', 1),\n ('feedthebands', 1),\n ('thjs', 1),\n ('acking', 1),\n ('allsopp', 1),\n ('familie', 1),\n ('ubm', 1),\n ('pqpvsl', 1),\n ('kyf', 1),\n ('dxk', 1),\n ('pave', 1),\n ('precioius', 1),\n ('eurosceptic', 1),\n ('scumbags', 1),\n ('scit', 1),\n ('qkpsik', 1),\n ('ditingkatkan', 1),\n ('salip', 1),\n ('menyalip', 1),\n ('agitator', 1),\n ('ljmc', 1),\n ('sfb', 1),\n ('tthat', 1),\n ('bushfires', 1),\n ('thickest', 1),\n ('annoyning', 1),\n ('tweeny', 1),\n ('gaappq', 1),\n ('attent', 1),\n ('tworgy', 1),\n ('panchi', 1),\n ('metr', 1),\n ('camiseta', 1),\n ('remadies', 1),\n ('printworks', 1),\n ('costelo', 1),\n ('crepper', 1),\n ('kmoeue', 1),\n ('potstickes', 1),\n ('darena', 1),\n ('stoda', 1),\n ('waitingroom', 1),\n ('pnptq', 1),\n ('mysite', 1),\n ('letts', 1),\n ('chome', 1),\n ('towds', 1),\n ('breakfasr', 1),\n ('smileriffic', 1),\n ('dreans', 1),\n ('nicety', 1),\n ('vour', 1),\n ('granderson', 1),\n ('biyotches', 1),\n ('morrisette', 1),\n ('youv', 1),\n ('ijoy', 1),\n ('deeves', 1),\n ('poopensac', 1),\n ('cienma', 1),\n ('berrytasty', 1),\n ('jannie', 1),\n ('skarang', 1),\n ('bner', 1),\n ('cherryboneta', 1),\n ('sdmca', 1),\n ('aggitated', 1),\n ('phisci', 1),\n ('greenalize', 1),\n ('vhumr', 1),\n ('livelounge', 1),\n ('tlsp', 1),\n ('hannahunter', 1),\n ('nicknamed', 1),\n ('ramsdens', 1),\n ('jdj', 1),\n ('twitli', 1),\n ('ehehhee', 1),\n ('rxvt', 1),\n ('jonowev', 1),\n ('hoobs', 1),\n ('acknowledgement', 1),\n ('electionstudio', 1),\n ('codii', 1),\n ('sharns', 1),\n ('flappin', 1),\n ('defenition', 1),\n ('becl', 1),\n ('usaul', 1),\n ('hopuse', 1),\n ('unaided', 1),\n ('sttng', 1),\n ('jeezzz', 1),\n ('siim', 1),\n ('danipetri', 1),\n ('greenwood', 1),\n ('seting', 1),\n ('alman', 1),\n ('nefunguje', 1),\n ('gaian', 1),\n ('buddhaian', 1),\n ('denkste', 1),\n ('statsss', 1),\n ('finitooo', 1),\n ('paninni', 1),\n ('moneymaking', 1),\n ('seatlle', 1),\n ('chelz', 1),\n ('shelbz', 1),\n ('deegan', 1),\n ('yessiree', 1),\n ('sedric', 1),\n ('eventlet', 1),\n ('sterio', 1),\n ('ohoho', 1),\n ('waterbom', 1),\n ('jannellynn', 1),\n ('daniellitis', 1),\n ('ijzl', 1),\n ('zukie', 1),\n ('panglima', 1),\n ('rting', 1),\n ('nsite', 1),\n ('oaxj', 1),\n ('cnex', 1),\n ('tofasoefua', 1),\n ('itsalmost', 1),\n ('deres', 1),\n ('shweepy', 1),\n ('turnning', 1),\n ('viocyanider', 1),\n ('conservativeshirtsense', 1),\n ('girlly', 1),\n ('bcuhz', 1),\n ('csm', 1),\n ('delier', 1),\n ('awsumm', 1),\n ('mhmpf', 1),\n ('paloma', 1),\n ('grillsmith', 1),\n ('psychobable', 1),\n ('sinusitus', 1),\n ('srsbsns', 1),\n ('crouching', 1),\n ('suche', 1),\n ('whilse', 1),\n ('luksusowa', 1),\n ('wyborowa', 1),\n ('pasayahan', 1),\n ('exshausted', 1),\n ('pajln', 1),\n ('coynes', 1),\n ('leatherette', 1),\n ('drini', 1),\n ('verifiable', 1),\n ('immeasurable', 1),\n ('upssessed', 1),\n ('yummmyy', 1),\n ('mtspace', 1),\n ('toty', 1),\n ('lnm', 1),\n ('mobap', 1),\n ('shouldistayorshouldigo', 1),\n ('kaela', 1),\n ('civpro', 1),\n ('loks', 1),\n ('pallys', 1),\n ('audaicity', 1),\n ('unsuccessfulness', 1),\n ('fummy', 1),\n ('zumies', 1),\n ('akomi', 1),\n ('pareis', 1),\n ('ukc', 1),\n ('rooselll', 1),\n ('chikkin', 1),\n ('suplused', 1),\n ('altruism', 1),\n ('toucgh', 1),\n ('tolberones', 1),\n ('mizzoo', 1),\n ('perhapsss', 1),\n ('kelpie', 1),\n ('ulrike', 1),\n ('dividens', 1),\n ('afundar', 1),\n ('bublle', 1),\n ('susceptibility', 1),\n ('diapointed', 1),\n ('nevarmind', 1),\n ('wheatlessandmeatless', 1),\n ('smartiepants', 1),\n ('perumpamaan', 1),\n ('digunakan', 1),\n ('mencerminkan', 1),\n ('orangnya', 1),\n ('mwahahahah', 1),\n ('ovvi', 1),\n ('amdullah', 1),\n ('malaysiacheapflights', 1),\n ('jpukv', 1),\n ('podcrash', 1),\n ('zcr', 1),\n ('underlip', 1),\n ('plumcake', 1),\n ('leandro', 1),\n ('dandibley', 1),\n ('fvkin', 1),\n ('mwahahhahaa', 1),\n ('hazmat', 1),\n ('ston', 1),\n ('sfera', 1),\n ('boulousopoulos', 1),\n ('matiaba', 1),\n ('xrispa', 1),\n ('vrady', 1),\n ('sociallynetworkedout', 1),\n ('dietetics', 1),\n ('leehom', 1),\n ('wssc', 1),\n ('interntzless', 1),\n ('zxxu', 1),\n ('harrrd', 1),\n ('shanti', 1),\n ('obox', 1),\n ('lalalaland', 1),\n ('suwbx', 1),\n ('launce', 1),\n ('mightyyy', 1),\n ('telstea', 1),\n ('yearsoftetris', 1),\n ('mackinaw', 1),\n ('everywekk', 1),\n ('maccie', 1),\n ('kub', 1),\n ('haypee', 1),\n ('yxvlz', 1),\n ('saturady', 1),\n ('acheived', 1),\n ('brudders', 1),\n ('slurps', 1),\n ('ovchv', 1),\n ('schoolworkschoolwork', 1),\n ('wendycholbi', 1),\n ('emikojaffe', 1),\n ('stls', 1),\n ('cfxoem', 1),\n ('babbled', 1),\n ('charliee', 1),\n ('animatronic', 1),\n ('hostmonster', 1),\n ('deshaun', 1),\n ('canneloni', 1),\n ('headacheyy', 1),\n ('mikkey', 1),\n ('hodling', 1),\n ('waayyy', 1),\n ('mikayla', 1),\n ('easthampton', 1),\n ('hotelchocolat', 1),\n ('quenna', 1),\n ('alevera', 1),\n ('mzldy', 1),\n ('funnykorean', 1),\n ('kwau', 1),\n ('retromodern', 1),\n ('puna', 1),\n ('reraise', 1),\n ('titch', 1),\n ('titchblog', 1),\n ('xskea', 1),\n ('mouvement', 1),\n ('nffi', 1),\n ('djqurt', 1),\n ('extrememly', 1),\n ('cahmpionships', 1),\n ('samesies', 1),\n ('benwell', 1),\n ('bevpth', 1),\n ('nerolac', 1),\n ('ahhkifhh', 1),\n ('ahhg', 1),\n ('glx', 1),\n ('bazillionth', 1),\n ('arcania', 1),\n ('liaison', 1),\n ('dangereuses', 1),\n ('choderlos', 1),\n ('laclos', 1),\n ('boourns', 1),\n ('outdo', 1),\n ('wxmtg', 1),\n ('leichhardt', 1),\n ('greatweekend', 1),\n ('isketch', 1),\n ('jasam', 1),\n ('twitdex', 1),\n ('cornnuts', 1),\n ('cornnutchos', 1),\n ('tobasco', 1),\n ('gbqg', 1),\n ('aqo', 1),\n ('ashower', 1),\n ('lewsi', 1),\n ('preggos', 1),\n ('rrrealllyyy', 1),\n ('inpacking', 1),\n ('trenty', 1),\n ('jodis', 1),\n ('battled', 1),\n ('percee', 1),\n ('vucle', 1),\n ('menteng', 1),\n ('hasyim', 1),\n ('fowey', 1),\n ('austell', 1),\n ('heligan', 1),\n ('tangly', 1),\n ('liiistening', 1),\n ('briiing', 1),\n ('soldup', 1),\n ('confuseeed', 1),\n ('suckkss', 1),\n ('yiyhk', 1),\n ('beginin', 1),\n ('novos', 1),\n ('ygpo', 1),\n ('mannerheim', 1),\n ('juelzx', 1),\n ('verfolgern', 1),\n ('sonnigen', 1),\n ('dienstag', 1),\n ('inav', 1),\n ('desepointed', 1),\n ('bankruptacy', 1),\n ('ewewew', 1),\n ('thecobrasnake', 1),\n ('aarrh', 1),\n ('feerl', 1),\n ('poach', 1),\n ('yqf', 1),\n ('oniy', 1),\n ('psshaw', 1),\n ('zvo', 1),\n ('newsfeed', 1),\n ('cpod', 1),\n ('lwu', 1),\n ('sletp', 1),\n ('ukuig', 1),\n ('cople', 1),\n ('pddpi', 1),\n ('hieroglyphic', 1),\n ('ohmega', 1),\n ('aclg', 1),\n ('vfbn', 1),\n ('crreeaammm', 1),\n ('nitelife', 1),\n ('lanna', 1),\n ('googelplex', 1),\n ('realatives', 1),\n ('diciembre', 1),\n ('diciembres', 1),\n ('molagootal', 1),\n ('obaniac', 1),\n ('izzz', 1),\n ('logjam', 1),\n ('icondrawer', 1),\n ('tamato', 1),\n ('gradute', 1),\n ('shanty', 1),\n ('boyboy', 1),\n ('haep', 1),\n ('speeded', 1),\n ('ragweed', 1),\n ('kymbo', 1),\n ('ovaa', 1),\n ('weighted', 1),\n ('shmups', 1),\n ('odw', 1),\n ('lillett', 1),\n ('nosex', 1),\n ('stephonies', 1),\n ('oceanic', 1),\n ('jeaga', 1),\n ('excelso', 1),\n ('apft', 1),\n ('lxqd', 1),\n ('builderx', 1),\n ('zombieville', 1),\n ('qwx', 1),\n ('pamatay', 1),\n ('zyc', 1),\n ('coyple', 1),\n ('languishes', 1),\n ('munin', 1),\n ('unhurt', 1),\n ('baybeee', 1),\n ('covenent', 1),\n ('replutation', 1),\n ('timothee', 1),\n ('hatroade', 1),\n ('flming', 1),\n ('phonecharger', 1),\n ('lunchfail', 1),\n ('homewooork', 1),\n ('ywov', 1),\n ('plkn', 1),\n ('takpayah', 1),\n ('platte', 1),\n ('forot', 1),\n ('btx', 1),\n ('wouldl', 1),\n ('qgk', 1),\n ('cardis', 1),\n ('wpg', 1),\n ('beezzyyy', 1),\n ('yummed', 1),\n ('blasphemous', 1),\n ('kxzsm', 1),\n ('griswold', 1),\n ('boggy', 1),\n ('xqgqp', 1),\n ('chcoclate', 1),\n ('uaf', 1),\n ('yasitas', 1),\n ('pennyarcade', 1),\n ('makabawi', 1),\n ('xtu', 1),\n ('aveo', 1),\n ('dhz', 1),\n ('wwphilly', 1),\n ('sleephours', 1),\n ('farish', 1),\n ('infringes', 1),\n ('jnz', 1),\n ('sepp', 1),\n ('blatter', 1),\n ('sabc', 1),\n ('tommoror', 1),\n ('myjfr', 1),\n ('sahiti', 1),\n ('annnyway', 1),\n ('comibg', 1),\n ('narealize', 1),\n ('mgcj', 1),\n ('hillsboro', 1),\n ('censura', 1),\n ('zapamy', 1),\n ('trochu', 1),\n ('pohr', 1),\n ('nrks', 1),\n ('neckk', 1),\n ('vont', 1),\n ('phisical', 1),\n ('myzchaos', 1),\n ('yuuppp', 1),\n ('cleos', 1),\n ('boatride', 1),\n ('nationalrail', 1),\n ('damnear', 1),\n ('tantamount', 1),\n ('muahxoxo', 1),\n ('indespensable', 1),\n ('cruisemaniac', 1),\n ('newdivide', 1),\n ('crawfished', 1),\n ('alta', 1),\n ('mrsperfect', 1),\n ('macfest', 1),\n ('unapproachable', 1),\n ('coxon', 1),\n ('castlerock', 1),\n ('prettyprinting', 1),\n ('killinq', 1),\n ('tubed', 1),\n ('fries', 1),\n ('autochecked', 1),\n ('salving', 1),\n ('experimentor', 1),\n ('swone', 1),\n ('wetnap', 1),\n ('erickas', 1),\n ('nieuwste', 1),\n ('schatjj', 1),\n ('lrtweetup', 1),\n ('geowoodstock', 1),\n ('ancy', 1),\n ('iamdownloader', 1),\n ('bethind', 1),\n ('dgk', 1),\n ('tpday', 1),\n ('sleepaholic', 1),\n ('babymoon', 1),\n ('anethesia', 1),\n ('gadsden', 1),\n ('thebrick', 1),\n ('hulman', 1),\n ('bnfk', 1),\n ('nkikipag', 1),\n ('liqhts', 1),\n ('executioner', 1),\n ('thareasonwhy', 1),\n ('mxkv', 1),\n ('givine', 1),\n ('gooingg', 1),\n ('bsac', 1),\n ('bebox', 1),\n ('cherrythegreat', 1),\n ('scapey', 1),\n ('csproj', 1),\n ('mguzd', 1),\n ('oco', 1),\n ('gramcation', 1),\n ('rangga', 1),\n ('thiena', 1),\n ('danxe', 1),\n ('alred', 1),\n ('deyre', 1),\n ('pzqmo', 1),\n ('afeared', 1),\n ('upcharge', 1),\n ('tweedleytweets', 1),\n ('exoplanet', 1),\n ('caterpillers', 1),\n ('amta', 1),\n ('scheds', 1),\n ('malamig', 1),\n ('ballacks', 1),\n ('nooopee', 1),\n ('apon', 1),\n ('hatefull', 1),\n ('eker', 1),\n ('fumo', 1),\n ('crespo', 1),\n ('luvvin', 1),\n ('swo', 1),\n ('shouuldnt', 1),\n ('caaall', 1),\n ('bdo', 1),\n ('tweenpopradio', 1),\n ('votefortweenpop', 1),\n ('maorning', 1),\n ('bmgt', 1),\n ('palmyra', 1),\n ('defribrilator', 1),\n ('jenettemccurdy', 1),\n ('prynce', 1),\n ('laplace', 1),\n ('hooraty', 1),\n ('phoenixfm', 1),\n ('remembrall', 1),\n ('shavuah', 1),\n ('demilovato', 1),\n ('tilopi', 1),\n ('wickenburg', 1),\n ('firehawk', 1),\n ('cugy', 1),\n ('arirang', 1),\n ('munters', 1),\n ('tickly', 1),\n ('scheer', 1),\n ('kroll', 1),\n ('abush', 1),\n ('qoes', 1),\n ('ukunlimited', 1),\n ('gadtorade', 1),\n ('contuine', 1),\n ('aaawe', 1),\n ('isabout', 1),\n ('thetonightshow', 1),\n ('icemagic', 1),\n ('mypanim', 1),\n ('shoutem', 1),\n ('decathlon', 1),\n ('happining', 1),\n ('larkin', 1),\n ('justinguitar', 1),\n ('gawww', 1),\n ('blameneolib', 1),\n ('ctu', 1),\n ('insinuate', 1),\n ('wgworldwide', 1),\n ('undiserving', 1),\n ('eaglehawk', 1),\n ('feelr', 1),\n ('xse', 1),\n ('jschloesser', 1),\n ('mochrie', 1),\n ('igrk', 1),\n ('bbgood', 1),\n ('chrisman', 1),\n ('eastend', 1),\n ('defias', 1),\n ('flipsyde', 1),\n ('eeiu', 1),\n ('huayu', 1),\n ('mxwe', 1),\n ('largamos', 1),\n ('dirrty', 1),\n ('mytwiggas', 1),\n ('talktoyall', 1),\n ('soundchek', 1),\n ('wantedshaun', 1),\n ('oraidenisuppose', 1),\n ('winbgtbuthedidnt', 1),\n ('iamveryupsetbutbadlywant', 1),\n ('seehimontouralongwithgeorgesampsonandstephenmulhern', 1),\n ('nullifies', 1),\n ('ewmb', 1),\n ('ksgreb', 1),\n ('opgrad', 1),\n ('habaneros', 1),\n ('zucchinni', 1),\n ('carrotts', 1),\n ('dreyers', 1),\n ('qpa', 1),\n ('acedntly', 1),\n ('acuj', 1),\n ('prsocialite', 1),\n ('edwar', 1),\n ('brennans', 1),\n ('sfsu', 1),\n ('anza', 1),\n ('goodread', 1),\n ('boehoee', 1),\n ('hackedd', 1),\n ('deandra', 1),\n ('mistweetment', 1),\n ('dishonoured', 1),\n ('capricarius', 1),\n ('yyrqk', 1),\n ('photohop', 1),\n ('dneq', 1),\n ('danniel', 1),\n ('bouut', 1),\n ('bichito', 1),\n ('blockout', 1),\n ('exciteedd', 1),\n ('correctional', 1),\n ('biooo', 1),\n ('amcs', 1),\n ('inidvidual', 1),\n ('edct', 1),\n ('cleverly', 1),\n ('colac', 1),\n ('morrrning', 1),\n ('dbar', 1),\n ('timezzz', 1),\n ('everywheres', 1),\n ('mcflyofficial', 1),\n ('freckin', 1),\n ('appreaciate', 1),\n ('hxaw', 1),\n ('freddomm', 1),\n ('allt', 1),\n ('columnist', 1),\n ('duqueee', 1),\n ('jayanagar', 1),\n ('hallet', 1),\n ('bhr', 1),\n ('sdr', 1),\n ('emissary', 1),\n ('cousines', 1),\n ('tambourine', 1),\n ('dikash', 1),\n ('jio', 1),\n ('smcavl', 1),\n ('avltweetup', 1),\n ('ngapain', 1),\n ('coomee', 1),\n ('maiii', 1),\n ('dtzba', 1),\n ('evu', 1),\n ('positronic', 1),\n ('somthn', 1),\n ('venessa', 1),\n ('flaying', 1),\n ('cedinho', 1),\n ('nrvpb', 1),\n ('spellweaver', 1),\n ('efuk', 1),\n ('shesha', 1),\n ('lokale', 1),\n ('ewwitsclare', 1),\n ('gacia', 1),\n ('dhqb', 1),\n ('vintagefabrics', 1),\n ('gamehouse', 1),\n ('tidak', 1),\n ('menemukan', 1),\n ('tarra', 1),\n ('citraland', 1),\n ('rosamunde', 1),\n ('pilchers', 1),\n ('vejen', 1),\n ('boredation', 1),\n ('mohler', 1),\n ('myaopx', 1),\n ('funi', 1),\n ('octomore', 1),\n ('focussing', 1),\n ('membuatku', 1),\n ('huuug', 1),\n ('nyleg', 1),\n ('bocs', 1),\n ('vibez', 1),\n ('claireee', 1),\n ('jugy', 1),\n ('funions', 1),\n ('idontwannaidontwannaidontwanna', 1),\n ('fuddled', 1),\n ('rezbo', 1),\n ('dofus', 1),\n ('whoulda', 1),\n ('sitin', 1),\n ('saugt', 1),\n ('tomasi', 1),\n ('solits', 1),\n ('hpuse', 1),\n ('metrotowers', 1),\n ('petapeta', 1),\n ('wahl', 1),\n ('rapestove', 1),\n ('swanguard', 1),\n ('fundrsiser', 1),\n ('dropoff', 1),\n ('dxvdm', 1),\n ('lexii', 1),\n ('ayayay', 1),\n ('shortend', 1),\n ('harsin', 1),\n ('liney', 1),\n ('minok', 1),\n ('wailea', 1),\n ('bwaahahahaha', 1),\n ('feit', 1),\n ('orfords', 1),\n ('atchay', 1),\n ('lesbianism', 1)]"
     },
     "execution_count": 141,
     "metadata": {},
     "output_type": "execute_result"
    }
   ],
   "source": [
    "# remove words which occur less than O times\n",
    "O = 100\n",
    "    \n",
    "training_text = (' '.join(df['text'])).split()\n",
    "test_text = (' '.join(df_test['text'])).split()\n",
    "dataset_counter = Counter(training_text + test_text)\n",
    "\n",
    "dataset_counter.most_common()[-1000:]"
   ],
   "metadata": {
    "collapsed": false,
    "ExecuteTime": {
     "end_time": "2023-07-28T20:09:52.916721700Z",
     "start_time": "2023-07-28T20:09:51.322018Z"
    }
   }
  },
  {
   "cell_type": "code",
   "execution_count": 142,
   "outputs": [
    {
     "data": {
      "text/plain": "  0%|          | 0/500000 [00:00<?, ?it/s]",
      "application/vnd.jupyter.widget-view+json": {
       "version_major": 2,
       "version_minor": 0,
       "model_id": "658844c263024f8996a66efe629f9547"
      }
     },
     "metadata": {},
     "output_type": "display_data"
    },
    {
     "data": {
      "text/plain": "  0%|          | 0/100000 [00:00<?, ?it/s]",
      "application/vnd.jupyter.widget-view+json": {
       "version_major": 2,
       "version_minor": 0,
       "model_id": "1348c148e6b445249ac349a6830e2b4a"
      }
     },
     "metadata": {},
     "output_type": "display_data"
    },
    {
     "data": {
      "text/plain": "        target                                               text\n0            0  this is my last tweet of the day so goodnight ...\n1            1  laughing okay yeah ll vote for her right now d...\n2            0      gonna feel like shit at uni today still up on\n3            0  can find my phone charger so my service over t...\n4            0                         it wa just to black though\n...        ...                                                ...\n499995       1                          watching twilight text me\n499996       1  for me it is usual day for me fighting with my...\n499997       0  question for you can stress re yesterday wa an...\n499998       0                              okay then made me sad\n499999       0  what about with me now sad and you can say any...\n\n[500000 rows x 2 columns]",
      "text/html": "<div>\n<style scoped>\n    .dataframe tbody tr th:only-of-type {\n        vertical-align: middle;\n    }\n\n    .dataframe tbody tr th {\n        vertical-align: top;\n    }\n\n    .dataframe thead th {\n        text-align: right;\n    }\n</style>\n<table border=\"1\" class=\"dataframe\">\n  <thead>\n    <tr style=\"text-align: right;\">\n      <th></th>\n      <th>target</th>\n      <th>text</th>\n    </tr>\n  </thead>\n  <tbody>\n    <tr>\n      <th>0</th>\n      <td>0</td>\n      <td>this is my last tweet of the day so goodnight ...</td>\n    </tr>\n    <tr>\n      <th>1</th>\n      <td>1</td>\n      <td>laughing okay yeah ll vote for her right now d...</td>\n    </tr>\n    <tr>\n      <th>2</th>\n      <td>0</td>\n      <td>gonna feel like shit at uni today still up on</td>\n    </tr>\n    <tr>\n      <th>3</th>\n      <td>0</td>\n      <td>can find my phone charger so my service over t...</td>\n    </tr>\n    <tr>\n      <th>4</th>\n      <td>0</td>\n      <td>it wa just to black though</td>\n    </tr>\n    <tr>\n      <th>...</th>\n      <td>...</td>\n      <td>...</td>\n    </tr>\n    <tr>\n      <th>499995</th>\n      <td>1</td>\n      <td>watching twilight text me</td>\n    </tr>\n    <tr>\n      <th>499996</th>\n      <td>1</td>\n      <td>for me it is usual day for me fighting with my...</td>\n    </tr>\n    <tr>\n      <th>499997</th>\n      <td>0</td>\n      <td>question for you can stress re yesterday wa an...</td>\n    </tr>\n    <tr>\n      <th>499998</th>\n      <td>0</td>\n      <td>okay then made me sad</td>\n    </tr>\n    <tr>\n      <th>499999</th>\n      <td>0</td>\n      <td>what about with me now sad and you can say any...</td>\n    </tr>\n  </tbody>\n</table>\n<p>500000 rows × 2 columns</p>\n</div>"
     },
     "execution_count": 142,
     "metadata": {},
     "output_type": "execute_result"
    }
   ],
   "source": [
    "def remove_infrequent_words(sentence):\n",
    "    _words = sentence.split()\n",
    "    _words = [word if dataset_counter[word] >= O else ' ' for word in _words]\n",
    "    sentence = ' '.join(_words)\n",
    "    sentence = re.sub('\\s+', ' ', sentence)\n",
    "    sentence = sentence.strip()\n",
    "    return sentence\n",
    "    \n",
    "df['text'] = df['text'].progress_apply(remove_infrequent_words)\n",
    "df_test['text'] = df_test['text'].progress_apply(remove_infrequent_words)\n",
    "\n",
    "df"
   ],
   "metadata": {
    "collapsed": false,
    "ExecuteTime": {
     "end_time": "2023-07-28T20:09:57.184363400Z",
     "start_time": "2023-07-28T20:09:52.903724500Z"
    }
   }
  },
  {
   "cell_type": "raw",
   "source": [
    "# read cleaned data\n",
    "df = pd.read_csv('data_cleaned.csv')\n",
    "df_test = pd.read_csv('data_valid_cleaned.csv')\n",
    "df"
   ],
   "metadata": {
    "collapsed": false
   }
  },
  {
   "cell_type": "raw",
   "source": [
    "# read raw data\n",
    "df = pd.read_csv('data.csv')\n",
    "df_test = pd.read_csv('data_valid.csv')\n",
    "df"
   ],
   "metadata": {
    "collapsed": false
   }
  },
  {
   "cell_type": "code",
   "execution_count": 143,
   "outputs": [],
   "source": [
    "# read the csv file\n",
    "# df = pd.read_csv('data_cleaned.csv')\n",
    "# df_test = pd.read_csv('data_valid_cleaned.csv')\n",
    "# \n",
    "# df"
   ],
   "metadata": {
    "collapsed": false,
    "ExecuteTime": {
     "end_time": "2023-07-28T20:09:57.199807100Z",
     "start_time": "2023-07-28T20:09:57.193877900Z"
    }
   }
  },
  {
   "cell_type": "code",
   "execution_count": 144,
   "outputs": [
    {
     "data": {
      "text/plain": "('sizes:', (500000,), (500000,), (100000,))"
     },
     "execution_count": 144,
     "metadata": {},
     "output_type": "execute_result"
    }
   ],
   "source": [
    "# def drop_not_string(_df, column):\n",
    "#     return _df.drop(_df[_df[column].apply(lambda x: isinstance(x, str)) == False].index)\n",
    "# \n",
    "# drop_not_string(df, 'text')\n",
    "# drop_not_string(df_test, 'text')\n",
    "\n",
    "X = df['text']\n",
    "y = df['target']\n",
    "\n",
    "X_test = df_test['text']\n",
    "\n",
    "# make them all strings\n",
    "X = X.astype(str)\n",
    "X_test = X_test.astype(str)\n",
    "\n",
    "\"sizes:\", X.shape, y.shape, X_test.shape"
   ],
   "metadata": {
    "collapsed": false,
    "ExecuteTime": {
     "end_time": "2023-07-28T20:09:57.307615800Z",
     "start_time": "2023-07-28T20:09:57.195880500Z"
    }
   }
  },
  {
   "cell_type": "markdown",
   "source": [
    "## Word2Vec\n",
    "Using the Gensim implementation of Google's Word2Vec."
   ],
   "metadata": {
    "collapsed": false
   }
  },
  {
   "cell_type": "code",
   "execution_count": 145,
   "outputs": [
    {
     "data": {
      "text/plain": "  0%|          | 0/500000 [00:00<?, ?it/s]",
      "application/vnd.jupyter.widget-view+json": {
       "version_major": 2,
       "version_minor": 0,
       "model_id": "85e9681ab5174678a8923aa7d2e70c6e"
      }
     },
     "metadata": {},
     "output_type": "display_data"
    },
    {
     "data": {
      "text/plain": "  0%|          | 0/100000 [00:00<?, ?it/s]",
      "application/vnd.jupyter.widget-view+json": {
       "version_major": 2,
       "version_minor": 0,
       "model_id": "058069ba5a534199a5df907e44241b09"
      }
     },
     "metadata": {},
     "output_type": "display_data"
    },
    {
     "data": {
      "text/plain": "(500000, 100)"
     },
     "execution_count": 145,
     "metadata": {},
     "output_type": "execute_result"
    }
   ],
   "source": [
    "from gensim.models import Word2Vec\n",
    "sentences = [sentence.split() for sentence in X]\n",
    "w2v_model = Word2Vec(sentences, window=5, min_count=5, workers=4, hs=1 , negative=0)\n",
    "\n",
    "def vectorize(sentence):\n",
    "    words = sentence.split()\n",
    "    words_vecs = [w2v_model.wv[word] for word in words if word in w2v_model.wv]\n",
    "    if len(words_vecs) == 0:\n",
    "        return np.zeros(100)\n",
    "    words_vecs = np.array(words_vecs)\n",
    "    return words_vecs.mean(axis=0)\n",
    "\n",
    "X_w2v = np.array([vectorize(sentence) for sentence in tqdm(X)])\n",
    "X_test_w2v = np.array([vectorize(sentence) for sentence in tqdm(X_test)])\n",
    "\n",
    "X_w2v.shape"
   ],
   "metadata": {
    "collapsed": false,
    "ExecuteTime": {
     "end_time": "2023-07-28T20:10:27.574413500Z",
     "start_time": "2023-07-28T20:09:57.235615800Z"
    }
   }
  },
  {
   "cell_type": "markdown",
   "source": [
    "## Skip-Gram"
   ],
   "metadata": {
    "collapsed": false
   }
  },
  {
   "cell_type": "raw",
   "source": [
    "from toolz import itertoolz, compose\n",
    "from toolz.curried import map as cmap, sliding_window, pluck\n",
    "from sklearn.feature_extraction.text import CountVectorizer\n",
    "\n",
    "class SkipGramVectorizer(CountVectorizer):\n",
    "    def build_analyzer(self):    \n",
    "        preprocess = self.build_preprocessor()\n",
    "        stop_words = self.get_stop_words()\n",
    "        tokenize = self.build_tokenizer()\n",
    "        return lambda doc: self._word_skip_grams(\n",
    "                compose(tokenize, preprocess, self.decode)(doc),\n",
    "                stop_words)\n",
    "\n",
    "    def _word_skip_grams(self, tokens, stop_words=None):\n",
    "        # handle stop words\n",
    "        if stop_words is not None:\n",
    "            tokens = [w for w in tokens if w not in stop_words]\n",
    "\n",
    "        return compose(cmap(' '.join), pluck([0, 2]), sliding_window(3))(tokens)"
   ],
   "metadata": {
    "collapsed": false
   }
  },
  {
   "cell_type": "markdown",
   "source": [
    "## Mapping Visualisation\n",
    "The 100-dimensional Word2Vec mapping of our features is reduced to a 2-dimensional space. The colouring is according to the label."
   ],
   "metadata": {
    "collapsed": false
   }
  },
  {
   "cell_type": "raw",
   "source": [
    "import umap\n",
    "from sklearn.preprocessing import StandardScaler\n",
    "reducer = umap.UMAP()\n",
    "scaled_we = StandardScaler().fit_transform(X_w2v)\n",
    "_embedding1 = reducer.fit_transform(scaled_we[:N])"
   ],
   "metadata": {
    "collapsed": false
   }
  },
  {
   "cell_type": "raw",
   "source": [
    "import matplotlib.pyplot as plt\n",
    "plt.scatter(\n",
    "    _embedding1[:, 0],\n",
    "    _embedding1[:, 1],\n",
    "    color=['r' if _y == 0 else 'b' for _y in y[:N]]\n",
    ")"
   ],
   "metadata": {
    "collapsed": false
   }
  },
  {
   "cell_type": "markdown",
   "source": [
    "# Classifiers\n",
    "This compares different classifiers. "
   ],
   "metadata": {
    "collapsed": false
   }
  },
  {
   "cell_type": "code",
   "execution_count": 146,
   "outputs": [
    {
     "data": {
      "text/plain": "  0%|          | 0/3 [00:00<?, ?it/s]",
      "application/vnd.jupyter.widget-view+json": {
       "version_major": 2,
       "version_minor": 0,
       "model_id": "61f1b6742e164433b6e59b0126c3f048"
      }
     },
     "metadata": {},
     "output_type": "display_data"
    },
    {
     "data": {
      "text/plain": "  embedding            classifier  train accuracy  test accuracy\n0       w2v  LogisticRegression()        0.751313       0.749612\n1       w2v     RidgeClassifier()        0.747785       0.747115\n2       w2v          GaussianNB()        0.649322       0.650255",
      "text/html": "<div>\n<style scoped>\n    .dataframe tbody tr th:only-of-type {\n        vertical-align: middle;\n    }\n\n    .dataframe tbody tr th {\n        vertical-align: top;\n    }\n\n    .dataframe thead th {\n        text-align: right;\n    }\n</style>\n<table border=\"1\" class=\"dataframe\">\n  <thead>\n    <tr style=\"text-align: right;\">\n      <th></th>\n      <th>embedding</th>\n      <th>classifier</th>\n      <th>train accuracy</th>\n      <th>test accuracy</th>\n    </tr>\n  </thead>\n  <tbody>\n    <tr>\n      <th>0</th>\n      <td>w2v</td>\n      <td>LogisticRegression()</td>\n      <td>0.751313</td>\n      <td>0.749612</td>\n    </tr>\n    <tr>\n      <th>1</th>\n      <td>w2v</td>\n      <td>RidgeClassifier()</td>\n      <td>0.747785</td>\n      <td>0.747115</td>\n    </tr>\n    <tr>\n      <th>2</th>\n      <td>w2v</td>\n      <td>GaussianNB()</td>\n      <td>0.649322</td>\n      <td>0.650255</td>\n    </tr>\n  </tbody>\n</table>\n</div>"
     },
     "execution_count": 146,
     "metadata": {},
     "output_type": "execute_result"
    }
   ],
   "source": [
    "from sklearn.model_selection import train_test_split\n",
    "from sklearn.metrics import accuracy_score\n",
    "\n",
    "from sklearn.linear_model import LogisticRegression, RidgeClassifier\n",
    "from sklearn.naive_bayes import GaussianNB\n",
    "\n",
    "embeddings = [{\"name\": \"w2v\", \"data\": X_w2v}, ]\n",
    "classifiers = [LogisticRegression(), RidgeClassifier(), GaussianNB()]\n",
    "\n",
    "for e in embeddings:\n",
    "    _X_train, _X_test, _y_train, _y_test = train_test_split(e[\"data\"], y, test_size=0.33)\n",
    "    train_acc = []\n",
    "    test_acc = []\n",
    "    \n",
    "    for c in tqdm(classifiers):\n",
    "        c.fit(_X_train, _y_train)\n",
    "        _y_hat_train = c.predict(_X_train)\n",
    "        _y_hat_test = c.predict(_X_test)\n",
    "        \n",
    "        train_acc.append(accuracy_score(_y_hat_train, _y_train))\n",
    "        test_acc.append(accuracy_score(_y_hat_test, _y_test))\n",
    "        \n",
    "pd.DataFrame({'embedding': list(map(lambda e: e[\"name\"], embeddings))*len(classifiers), 'classifier': classifiers, 'train accuracy': train_acc, 'test accuracy': test_acc})"
   ],
   "metadata": {
    "collapsed": false,
    "ExecuteTime": {
     "end_time": "2023-07-28T20:10:32.300345800Z",
     "start_time": "2023-07-28T20:10:27.566750100Z"
    }
   }
  },
  {
   "cell_type": "markdown",
   "source": [
    "Save prediction with Logistic Regression to file."
   ],
   "metadata": {
    "collapsed": false
   }
  },
  {
   "cell_type": "code",
   "execution_count": 147,
   "outputs": [],
   "source": [
    "lr = LogisticRegression()\n",
    "lr.fit(X_w2v, y)\n",
    "y_pred = lr.predict(X_w2v[:N])\n",
    "accuracy_score(y[:N], y_pred)\n",
    "\n",
    "y_pred_test = lr.predict(X_test_w2v)\n",
    "np.save('y_pred.npy', y_pred_test)"
   ],
   "metadata": {
    "collapsed": false,
    "ExecuteTime": {
     "end_time": "2023-07-28T20:10:35.652981800Z",
     "start_time": "2023-07-28T20:10:32.301343300Z"
    }
   }
  },
  {
   "cell_type": "markdown",
   "source": [
    "## Transformer\n",
    "Using a pre-trained transformer for sentiment analysis from Huggingface.\n",
    "Score on the validation set: 0.71\n",
    "\n",
    "This method is therefore worse than what I used before..."
   ],
   "metadata": {
    "collapsed": false
   }
  },
  {
   "cell_type": "raw",
   "source": [
    "from transformers import pipeline\n",
    "sentiment_pipeline = pipeline(\"sentiment-analysis\")\n",
    "y_pred_transformer = sentiment_pipeline(df_test['text'].tolist())\n",
    "\n",
    "y_pred_transformer"
   ],
   "metadata": {
    "collapsed": false
   }
  },
  {
   "cell_type": "raw",
   "source": [
    "# np.array([1 if x['label'] == 'POSITIVE' else 0 for x in y_pred_transformer]).tofile('y_pred_transformer.npy')\n",
    "y_pred_transformer_array = np.array(y_pred_transformer)\n",
    "np.save('y_pred_transformer.npy', y_pred_transformer_array)\n",
    "np.array(y_pred_transformer).shape[0] == len(df_test)"
   ],
   "metadata": {
    "collapsed": false
   }
  },
  {
   "cell_type": "raw",
   "source": [
    "# type(df['text'].tolist())\n",
    "_x = np.load(\"y_pred_transformer.npy\", allow_pickle=True)\n",
    "np.all(_x == y_pred_transformer_array)"
   ],
   "metadata": {
    "collapsed": false
   }
  }
 ],
 "metadata": {
  "kernelspec": {
   "display_name": "Python 3",
   "language": "python",
   "name": "python3"
  },
  "language_info": {
   "codemirror_mode": {
    "name": "ipython",
    "version": 2
   },
   "file_extension": ".py",
   "mimetype": "text/x-python",
   "name": "python",
   "nbconvert_exporter": "python",
   "pygments_lexer": "ipython2",
   "version": "2.7.6"
  }
 },
 "nbformat": 4,
 "nbformat_minor": 0
}
