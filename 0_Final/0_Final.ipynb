{
 "cells": [
  {
   "cell_type": "markdown",
   "source": [
    "# AGDML-Lab Final\n",
    "Task: Sentiment Analysis of Twitter messages\n",
    "\n",
    "## Preprocessing\n",
    "For preprocessing I used NLTK library. I removed non-alphabetic characters, made words lowercase, removed mentions of other users, removed stopwords and lemmatized each word to its lemma. This should make the data more consistent and easier to work with. My assumption is: most of the spelling mistakes and special characters are unnecessary for sentiment analysis.\n",
    "\n",
    "The regex will most likely match stuff that we do not want removed, but that is a tradeoff we accept."
   ],
   "metadata": {
    "collapsed": false
   }
  },
  {
   "cell_type": "code",
   "execution_count": 2,
   "outputs": [
    {
     "data": {
      "text/plain": "'NVIDIA GeForce GTX 1060 6GB'"
     },
     "execution_count": 2,
     "metadata": {},
     "output_type": "execute_result"
    }
   ],
   "source": [
    "import pandas as pd\n",
    "import numpy as np\n",
    "from tqdm.auto import tqdm\n",
    "import torch\n",
    "\n",
    "tqdm.pandas()\n",
    "torch.cuda.get_device_name(0)"
   ],
   "metadata": {
    "collapsed": false,
    "ExecuteTime": {
     "end_time": "2023-07-28T17:40:03.102063100Z",
     "start_time": "2023-07-28T17:40:00.689305900Z"
    }
   }
  },
  {
   "cell_type": "code",
   "execution_count": 14,
   "outputs": [
    {
     "data": {
      "text/plain": "('positive messages', 0.499076, 'negative messages', 0.5009239999999999)"
     },
     "execution_count": 14,
     "metadata": {},
     "output_type": "execute_result"
    }
   ],
   "source": [
    "# read training data\n",
    "df = pd.read_csv('data.csv')\n",
    "\n",
    "# read validation data\n",
    "df_test = pd.read_csv('data_valid.csv')\n",
    "\n",
    "ct = len(df.loc[df['target'] == 1]) / len(df)\n",
    "\"positive messages\", ct, \"negative messages\", 1-ct "
   ],
   "metadata": {
    "collapsed": false,
    "ExecuteTime": {
     "end_time": "2023-07-28T17:49:54.790802100Z",
     "start_time": "2023-07-28T17:49:54.077243Z"
    }
   }
  },
  {
   "cell_type": "markdown",
   "source": [
    "The dataset is evenly balanced. There is no bias towards negative or positive messages."
   ],
   "metadata": {
    "collapsed": false
   }
  },
  {
   "cell_type": "code",
   "execution_count": 17,
   "outputs": [
    {
     "name": "stdout",
     "output_type": "stream",
     "text": [
      "{\"didn't\", 'herself', 'when', 'don', 'each', 'hers', \"you'd\", \"it's\", 'his', \"she's\", \"mustn't\", 'you', 'he', 'before', 'only', 'should', 'on', 'here', 'doing', 'aren', 'were', \"hadn't\", \"mightn't\", 'ourselves', 'hadn', 'yourselves', 'with', \"hasn't\", 'its', 'her', 'too', 'while', 'themselves', 'am', 't', 'we', 'myself', 'it', 'through', 'mightn', 'shouldn', 'weren', \"won't\", 'himself', 'me', 'during', \"that'll\", 'off', 'yourself', 'same', \"wouldn't\", 'what', 'have', 'm', \"aren't\", 'ours', 'does', 'my', 'are', 'all', 'll', 'she', 'such', 'isn', 'for', 'they', 'other', 'those', 'did', 'by', 'will', 'until', 'own', 'most', 'ma', 'was', 'why', 'him', 'or', 'd', \"wasn't\", 'hasn', 'as', 'couldn', 'some', 'an', 'your', 'between', 'shan', \"you'll\", 'this', \"weren't\", 'no', 'so', 'o', 'into', 're', 'doesn', 'in', 'down', 'is', 'them', 'whom', 'again', \"isn't\", 'then', 'can', 'once', \"you've\", 'above', 'been', 'of', 'up', 'over', 'now', 'at', \"shan't\", \"shouldn't\", 'ain', 'do', \"doesn't\", 's', 'didn', 'haven', 'nor', 'just', 'few', 'had', 'be', 'more', 'needn', 'out', \"couldn't\", 'to', 'not', 'wasn', 'i', 'which', 'theirs', 'where', 'won', 'the', 'that', 'mustn', 'and', 'from', 'further', 'who', 'both', 'but', \"should've\", 'because', 've', 'a', 'their', 'how', \"haven't\", 'has', 'yours', 'after', 'below', 'itself', 'against', 'there', \"needn't\", 'these', \"don't\", 'any', 'having', 'y', 'wouldn', 'under', \"you're\", 'than', 'about', 'if', 'being', 'our'}\n"
     ]
    },
    {
     "name": "stderr",
     "output_type": "stream",
     "text": [
      "[nltk_data] Downloading package stopwords to\n",
      "[nltk_data]     C:\\Users\\frand\\AppData\\Roaming\\nltk_data...\n",
      "[nltk_data]   Package stopwords is already up-to-date!\n",
      "[nltk_data] Downloading package wordnet to\n",
      "[nltk_data]     C:\\Users\\frand\\AppData\\Roaming\\nltk_data...\n",
      "[nltk_data]   Package wordnet is already up-to-date!\n",
      "[nltk_data] Downloading package words to\n",
      "[nltk_data]     C:\\Users\\frand\\AppData\\Roaming\\nltk_data...\n",
      "[nltk_data]   Package words is already up-to-date!\n"
     ]
    },
    {
     "data": {
      "text/plain": "  0%|          | 0/1000 [00:00<?, ?it/s]",
      "application/vnd.jupyter.widget-view+json": {
       "version_major": 2,
       "version_minor": 0,
       "model_id": "9a55cb3b795049868d8cfe3af1f85d57"
      }
     },
     "metadata": {},
     "output_type": "display_data"
    }
   ],
   "source": [
    "# preprocessing text messages\n",
    "import re\n",
    "import nltk\n",
    "from nltk.corpus import stopwords, words\n",
    "from nltk.stem import WordNetLemmatizer\n",
    "\n",
    "# download stopwords and wordnet\n",
    "nltk.download('stopwords')\n",
    "nltk.download('wordnet')\n",
    "nltk.download('words')\n",
    "\n",
    "# create object of WordNetLemmatizer\n",
    "wordnet_lemmatizer = WordNetLemmatizer()\n",
    "\n",
    "# this allows very\n",
    "stopwords = set(stopwords.words('english'))\n",
    "stopwords.remove('very')\n",
    "print(stopwords)\n",
    "\n",
    "correct_words = [str.lower(w) for w in words.words()]\n",
    "\n",
    "from collections import Counter\n",
    "\n",
    "WORDS = Counter(correct_words)\n",
    "\n",
    "def P(word, N=sum(WORDS.values())):\n",
    "    \"\"\"Probability of `word`.\"\"\"\n",
    "    return WORDS[word] / N\n",
    "\n",
    "def correction(word):\n",
    "    \"\"\"Most probable spelling correction for word.\"\"\"\n",
    "    return max(candidates(word), key=P)\n",
    "\n",
    "def candidates(word):\n",
    "    \"\"\"Generate possible spelling corrections for word.\"\"\"\n",
    "    return (known([word]) or known(edits1(word)) or known(edits2(word)) or [word])\n",
    "\n",
    "def known(words):\n",
    "    \"\"\"The subset of `words` that appear in the dictionary of WORDS.\"\"\"\n",
    "    return set(w for w in words if w in WORDS)\n",
    "\n",
    "def edits1(word):\n",
    "    \"\"\"All edits that are one edit away from `word`.\"\"\"\n",
    "    letters    = 'abcdefghijklmnopqrstuvwxyz'\n",
    "    splits     = [(word[:i], word[i:])    for i in range(len(word) + 1)]\n",
    "    deletes    = [L + R[1:]               for L, R in splits if R]\n",
    "    transposes = [L + R[1] + R[0] + R[2:] for L, R in splits if len(R)>1]\n",
    "    replaces   = [L + c + R[1:]           for L, R in splits if R for c in letters]\n",
    "    inserts    = [L + c + R               for L, R in splits for c in letters]\n",
    "    return set(deletes + transposes + replaces + inserts)\n",
    "\n",
    "def edits2(word):\n",
    "    \"\"\"All edits that are two edits away from `word`.\"\"\"\n",
    "    return (e2 for e1 in edits1(word) for e2 in edits1(e1))\n",
    "\n",
    "# function to clean text data\n",
    "def clean_text(text):\n",
    "    # remove mentions of other users\n",
    "    text = re.sub('\\B@[._a-zA-Z0-9]{3,24}', '', text)\n",
    "    \n",
    "    # rewrite words in all caps to \"very\" followed by word\n",
    "    # text = re.sub('([A-Z]+)', lambda x: 'very ' + x.group(0).lower(), text)\n",
    "    \n",
    "    # make words lowercase, because Go and go will be considered as two words\n",
    "    text = text.lower()\n",
    "    # remove URLs from text\n",
    "    text = re.sub('(https?:\\/\\/)?([\\da-z\\.-]+)\\.([a-z\\.]{2,6})([\\/\\w \\.-]*)', ' ', text)\n",
    "    # replace ampersand html tag with &\n",
    "    text = re.sub('\\&amp;', 'and', text)\n",
    "    # remove everything but letters\n",
    "    text = re.sub('[^a-z]', ' ', text)\n",
    "    # split the sentences into words\n",
    "    words = text.split() \n",
    "    for i in range(len(words)):\n",
    "        # remove words with length 1\n",
    "        if len(words[i]) == 1:\n",
    "            words[i] = ''\n",
    "        # remove repetition of letters\n",
    "        _tmp = re.subn(r'([a-z])\\1{3,}', r'\\1', words[i])\n",
    "        # prepend very if there were repeating letters\n",
    "        # if _tmp[1] > 0:\n",
    "        #     words[i] = \"very \" + _tmp[0]\n",
    "    # remove stopwords like to, and, or etc.\n",
    "    # words = [word for word in words if word not in stopwords]\n",
    "    words = [correction(word) for word in words]\n",
    "    # # lemmatize each word\n",
    "    # words = [wordnet_lemmatizer.lemmatize(word) for word in words]\n",
    "    # join words to make sentence\n",
    "    text = ' '.join(words)\n",
    "    # remove multiple spaces\n",
    "    text = re.sub('\\s+', ' ', text)\n",
    "    text = text.strip()\n",
    "    \n",
    "    return text"
   ],
   "metadata": {
    "collapsed": false,
    "ExecuteTime": {
     "end_time": "2023-07-28T17:51:59.018996300Z",
     "start_time": "2023-07-28T17:51:46.659693600Z"
    }
   }
  },
  {
   "cell_type": "code",
   "execution_count": null,
   "outputs": [],
   "source": [
    "# drop rows with missing values\n",
    "df = df.dropna()\n",
    "df_test = df_test.dropna()\n",
    "\n",
    "# clean text data\n",
    "# df['text'] = df['text'].progress_apply(clean_text)\n",
    "# df.to_csv('data_cleaned.csv', index=False)    \n",
    "\n",
    "df_test['text'] = df_test['text'].head(1000).progress_apply(clean_text)\n",
    "df_test.to_csv('data_valid_cleaned.csv', index=False)"
   ],
   "metadata": {
    "collapsed": false
   }
  },
  {
   "cell_type": "code",
   "execution_count": 15,
   "outputs": [
    {
     "data": {
      "text/plain": "'i find phone charger i i switching service old phone'"
     },
     "execution_count": 15,
     "metadata": {},
     "output_type": "execute_result"
    }
   ],
   "source": [
    "clean_text(\"can't find my phone charger.. So I'm switching my service over to my old phone\")"
   ],
   "metadata": {
    "collapsed": false,
    "ExecuteTime": {
     "end_time": "2023-07-28T17:50:40.697373600Z",
     "start_time": "2023-07-28T17:50:40.673444Z"
    }
   }
  },
  {
   "cell_type": "raw",
   "source": [
    "# read cleaned data\n",
    "df = pd.read_csv('data_cleaned.csv')\n",
    "df_test = pd.read_csv('data_valid_cleaned.csv')\n",
    "df"
   ],
   "metadata": {
    "collapsed": false
   }
  },
  {
   "cell_type": "raw",
   "source": [
    "# read raw data\n",
    "df = pd.read_csv('data.csv')\n",
    "df_test = pd.read_csv('data_valid.csv')\n",
    "df"
   ],
   "metadata": {
    "collapsed": false
   }
  },
  {
   "cell_type": "code",
   "execution_count": 7,
   "outputs": [
    {
     "data": {
      "text/plain": "                                                    text\n0                very misset bowling fam very wish still\n1      i start training hospital radio may th verse l...\n2                               i very confiscate bottle\n3                                             very going\n4                                           very very bo\n...                                                  ...\n99995                                                NaN\n99996                                                NaN\n99997                                                NaN\n99998                                                NaN\n99999                                                NaN\n\n[100000 rows x 1 columns]",
      "text/html": "<div>\n<style scoped>\n    .dataframe tbody tr th:only-of-type {\n        vertical-align: middle;\n    }\n\n    .dataframe tbody tr th {\n        vertical-align: top;\n    }\n\n    .dataframe thead th {\n        text-align: right;\n    }\n</style>\n<table border=\"1\" class=\"dataframe\">\n  <thead>\n    <tr style=\"text-align: right;\">\n      <th></th>\n      <th>text</th>\n    </tr>\n  </thead>\n  <tbody>\n    <tr>\n      <th>0</th>\n      <td>very misset bowling fam very wish still</td>\n    </tr>\n    <tr>\n      <th>1</th>\n      <td>i start training hospital radio may th verse l...</td>\n    </tr>\n    <tr>\n      <th>2</th>\n      <td>i very confiscate bottle</td>\n    </tr>\n    <tr>\n      <th>3</th>\n      <td>very going</td>\n    </tr>\n    <tr>\n      <th>4</th>\n      <td>very very bo</td>\n    </tr>\n    <tr>\n      <th>...</th>\n      <td>...</td>\n    </tr>\n    <tr>\n      <th>99995</th>\n      <td>NaN</td>\n    </tr>\n    <tr>\n      <th>99996</th>\n      <td>NaN</td>\n    </tr>\n    <tr>\n      <th>99997</th>\n      <td>NaN</td>\n    </tr>\n    <tr>\n      <th>99998</th>\n      <td>NaN</td>\n    </tr>\n    <tr>\n      <th>99999</th>\n      <td>NaN</td>\n    </tr>\n  </tbody>\n</table>\n<p>100000 rows × 1 columns</p>\n</div>"
     },
     "execution_count": 7,
     "metadata": {},
     "output_type": "execute_result"
    }
   ],
   "source": [
    "# read the csv file\n",
    "# df = pd.read_csv('data_cleaned.csv')\n",
    "# df_test = pd.read_csv('data_valid_cleaned.csv')\n",
    "\n",
    "df_test"
   ],
   "metadata": {
    "collapsed": false,
    "ExecuteTime": {
     "end_time": "2023-07-28T17:43:08.891086300Z",
     "start_time": "2023-07-28T17:43:08.875000500Z"
    }
   }
  },
  {
   "cell_type": "code",
   "execution_count": 18,
   "outputs": [
    {
     "data": {
      "text/plain": "('sizes:', (500000,), (500000,), (1000,))"
     },
     "execution_count": 18,
     "metadata": {},
     "output_type": "execute_result"
    }
   ],
   "source": [
    "# def drop_not_string(_df, column):\n",
    "#     return _df.drop(_df[_df[column].apply(lambda x: isinstance(x, str)) == False].index)\n",
    "# \n",
    "# drop_not_string(df, 'text')\n",
    "# drop_not_string(df_test, 'text')\n",
    "\n",
    "X = df['text']\n",
    "y = df['target']\n",
    "\n",
    "X_test = df_test['text']\n",
    "\n",
    "# make them all strings\n",
    "X = X.astype(str)\n",
    "X_test = X_test.astype(str)\n",
    "\n",
    "\"sizes:\", X.shape, y.shape, X_test.shape"
   ],
   "metadata": {
    "collapsed": false,
    "ExecuteTime": {
     "end_time": "2023-07-28T17:52:30.774672900Z",
     "start_time": "2023-07-28T17:52:30.746032400Z"
    }
   }
  },
  {
   "cell_type": "markdown",
   "source": [
    "## Word2Vec\n",
    "Using the Gensim implementation of Google's Word2Vec."
   ],
   "metadata": {
    "collapsed": false
   }
  },
  {
   "cell_type": "code",
   "execution_count": 19,
   "outputs": [
    {
     "data": {
      "text/plain": "  0%|          | 0/500000 [00:00<?, ?it/s]",
      "application/vnd.jupyter.widget-view+json": {
       "version_major": 2,
       "version_minor": 0,
       "model_id": "0bb66b1a98ee4ff6b370d45dfa12e2f8"
      }
     },
     "metadata": {},
     "output_type": "display_data"
    },
    {
     "data": {
      "text/plain": "  0%|          | 0/1000 [00:00<?, ?it/s]",
      "application/vnd.jupyter.widget-view+json": {
       "version_major": 2,
       "version_minor": 0,
       "model_id": "d1bf6252f5b945b0b5defa33ac2f0984"
      }
     },
     "metadata": {},
     "output_type": "display_data"
    },
    {
     "data": {
      "text/plain": "(500000, 100)"
     },
     "execution_count": 19,
     "metadata": {},
     "output_type": "execute_result"
    }
   ],
   "source": [
    "from gensim.models import Word2Vec\n",
    "sentences = [sentence.split() for sentence in X]\n",
    "w2v_model = Word2Vec(sentences, window=5, min_count=5, workers=4, hs=1 , negative=0)\n",
    "\n",
    "def vectorize(sentence):\n",
    "    words = sentence.split()\n",
    "    words_vecs = [w2v_model.wv[word] for word in words if word in w2v_model.wv]\n",
    "    if len(words_vecs) == 0:\n",
    "        return np.zeros(100)\n",
    "    words_vecs = np.array(words_vecs)\n",
    "    return words_vecs.mean(axis=0)\n",
    "\n",
    "X_w2v = np.array([vectorize(sentence) for sentence in tqdm(X)])\n",
    "X_test_w2v = np.array([vectorize(sentence) for sentence in tqdm(X_test)])\n",
    "\n",
    "X_w2v.shape"
   ],
   "metadata": {
    "collapsed": false,
    "ExecuteTime": {
     "end_time": "2023-07-28T17:53:12.626030600Z",
     "start_time": "2023-07-28T17:52:33.365202700Z"
    }
   }
  },
  {
   "cell_type": "markdown",
   "source": [
    "## Skip-Gram"
   ],
   "metadata": {
    "collapsed": false
   }
  },
  {
   "cell_type": "code",
   "execution_count": 20,
   "outputs": [],
   "source": [
    "from toolz import itertoolz, compose\n",
    "from toolz.curried import map as cmap, sliding_window, pluck\n",
    "from sklearn.feature_extraction.text import CountVectorizer\n",
    "\n",
    "class SkipGramVectorizer(CountVectorizer):\n",
    "    def build_analyzer(self):    \n",
    "        preprocess = self.build_preprocessor()\n",
    "        stop_words = self.get_stop_words()\n",
    "        tokenize = self.build_tokenizer()\n",
    "        return lambda doc: self._word_skip_grams(\n",
    "                compose(tokenize, preprocess, self.decode)(doc),\n",
    "                stop_words)\n",
    "\n",
    "    def _word_skip_grams(self, tokens, stop_words=None):\n",
    "        # handle stop words\n",
    "        if stop_words is not None:\n",
    "            tokens = [w for w in tokens if w not in stop_words]\n",
    "\n",
    "        return compose(cmap(' '.join), pluck([0, 2]), sliding_window(3))(tokens)"
   ],
   "metadata": {
    "collapsed": false,
    "ExecuteTime": {
     "end_time": "2023-07-28T17:53:12.664437900Z",
     "start_time": "2023-07-28T17:53:12.628030200Z"
    }
   }
  },
  {
   "cell_type": "markdown",
   "source": [
    "## Mapping Visualisation\n",
    "The 100-dimensional Word2Vec mapping of our features is reduced to a 2-dimensional space. The colouring is according to the label."
   ],
   "metadata": {
    "collapsed": false
   }
  },
  {
   "cell_type": "code",
   "execution_count": 21,
   "outputs": [
    {
     "name": "stderr",
     "output_type": "stream",
     "text": [
      "C:\\Users\\frand\\AppData\\Local\\Packages\\PythonSoftwareFoundation.Python.3.11_qbz5n2kfra8p0\\LocalCache\\local-packages\\Python311\\site-packages\\umap\\distances.py:1063: NumbaDeprecationWarning: \u001B[1mThe 'nopython' keyword argument was not supplied to the 'numba.jit' decorator. The implicit default value for this argument is currently False, but it will be changed to True in Numba 0.59.0. See https://numba.readthedocs.io/en/stable/reference/deprecation.html#deprecation-of-object-mode-fall-back-behaviour-when-using-jit for details.\u001B[0m\n",
      "  @numba.jit()\n",
      "C:\\Users\\frand\\AppData\\Local\\Packages\\PythonSoftwareFoundation.Python.3.11_qbz5n2kfra8p0\\LocalCache\\local-packages\\Python311\\site-packages\\umap\\distances.py:1071: NumbaDeprecationWarning: \u001B[1mThe 'nopython' keyword argument was not supplied to the 'numba.jit' decorator. The implicit default value for this argument is currently False, but it will be changed to True in Numba 0.59.0. See https://numba.readthedocs.io/en/stable/reference/deprecation.html#deprecation-of-object-mode-fall-back-behaviour-when-using-jit for details.\u001B[0m\n",
      "  @numba.jit()\n",
      "C:\\Users\\frand\\AppData\\Local\\Packages\\PythonSoftwareFoundation.Python.3.11_qbz5n2kfra8p0\\LocalCache\\local-packages\\Python311\\site-packages\\umap\\distances.py:1086: NumbaDeprecationWarning: \u001B[1mThe 'nopython' keyword argument was not supplied to the 'numba.jit' decorator. The implicit default value for this argument is currently False, but it will be changed to True in Numba 0.59.0. See https://numba.readthedocs.io/en/stable/reference/deprecation.html#deprecation-of-object-mode-fall-back-behaviour-when-using-jit for details.\u001B[0m\n",
      "  @numba.jit()\n",
      "C:\\Users\\frand\\AppData\\Local\\Packages\\PythonSoftwareFoundation.Python.3.11_qbz5n2kfra8p0\\LocalCache\\local-packages\\Python311\\site-packages\\umap\\umap_.py:660: NumbaDeprecationWarning: \u001B[1mThe 'nopython' keyword argument was not supplied to the 'numba.jit' decorator. The implicit default value for this argument is currently False, but it will be changed to True in Numba 0.59.0. See https://numba.readthedocs.io/en/stable/reference/deprecation.html#deprecation-of-object-mode-fall-back-behaviour-when-using-jit for details.\u001B[0m\n",
      "  @numba.jit()\n"
     ]
    }
   ],
   "source": [
    "N = 10000\n",
    "\n",
    "import umap\n",
    "from sklearn.preprocessing import StandardScaler\n",
    "reducer = umap.UMAP()\n",
    "scaled_we = StandardScaler().fit_transform(X_w2v)\n",
    "_embedding1 = reducer.fit_transform(scaled_we[:N])"
   ],
   "metadata": {
    "collapsed": false,
    "ExecuteTime": {
     "end_time": "2023-07-28T17:53:39.705879900Z",
     "start_time": "2023-07-28T17:53:12.647438400Z"
    }
   }
  },
  {
   "cell_type": "code",
   "execution_count": 22,
   "outputs": [
    {
     "data": {
      "text/plain": "<matplotlib.collections.PathCollection at 0x20bf3c441d0>"
     },
     "execution_count": 22,
     "metadata": {},
     "output_type": "execute_result"
    },
    {
     "data": {
      "text/plain": "<Figure size 640x480 with 1 Axes>",
      "image/png": "[encoded data removed]"
     },
     "metadata": {},
     "output_type": "display_data"
    }
   ],
   "source": [
    "import matplotlib.pyplot as plt\n",
    "plt.scatter(\n",
    "    _embedding1[:, 0],\n",
    "    _embedding1[:, 1],\n",
    "    color=['r' if _y == 0 else 'b' for _y in y[:N]]\n",
    ")"
   ],
   "metadata": {
    "collapsed": false,
    "ExecuteTime": {
     "end_time": "2023-07-28T17:53:40.474266500Z",
     "start_time": "2023-07-28T17:53:39.707880300Z"
    }
   }
  },
  {
   "cell_type": "markdown",
   "source": [
    "# Classifiers\n",
    "This compares different classifiers. "
   ],
   "metadata": {
    "collapsed": false
   }
  },
  {
   "cell_type": "code",
   "execution_count": 23,
   "outputs": [
    {
     "data": {
      "text/plain": "  0%|          | 0/3 [00:00<?, ?it/s]",
      "application/vnd.jupyter.widget-view+json": {
       "version_major": 2,
       "version_minor": 0,
       "model_id": "15c65f5aef66437b83da0bb985594dc7"
      }
     },
     "metadata": {},
     "output_type": "display_data"
    },
    {
     "data": {
      "text/plain": "  embedding            classifier  train accuracy  test accuracy\n0       w2v  LogisticRegression()        0.735278       0.736006\n1       w2v     RidgeClassifier()        0.733081       0.734321\n2       w2v          GaussianNB()        0.638113       0.635503",
      "text/html": "<div>\n<style scoped>\n    .dataframe tbody tr th:only-of-type {\n        vertical-align: middle;\n    }\n\n    .dataframe tbody tr th {\n        vertical-align: top;\n    }\n\n    .dataframe thead th {\n        text-align: right;\n    }\n</style>\n<table border=\"1\" class=\"dataframe\">\n  <thead>\n    <tr style=\"text-align: right;\">\n      <th></th>\n      <th>embedding</th>\n      <th>classifier</th>\n      <th>train accuracy</th>\n      <th>test accuracy</th>\n    </tr>\n  </thead>\n  <tbody>\n    <tr>\n      <th>0</th>\n      <td>w2v</td>\n      <td>LogisticRegression()</td>\n      <td>0.735278</td>\n      <td>0.736006</td>\n    </tr>\n    <tr>\n      <th>1</th>\n      <td>w2v</td>\n      <td>RidgeClassifier()</td>\n      <td>0.733081</td>\n      <td>0.734321</td>\n    </tr>\n    <tr>\n      <th>2</th>\n      <td>w2v</td>\n      <td>GaussianNB()</td>\n      <td>0.638113</td>\n      <td>0.635503</td>\n    </tr>\n  </tbody>\n</table>\n</div>"
     },
     "execution_count": 23,
     "metadata": {},
     "output_type": "execute_result"
    }
   ],
   "source": [
    "from sklearn.model_selection import train_test_split\n",
    "from sklearn.metrics import accuracy_score\n",
    "\n",
    "from sklearn.linear_model import LogisticRegression, RidgeClassifier\n",
    "from sklearn.naive_bayes import GaussianNB\n",
    "\n",
    "embeddings = [{\"name\": \"w2v\", \"data\": X_w2v}, ]\n",
    "classifiers = [LogisticRegression(), RidgeClassifier(), GaussianNB()]\n",
    "\n",
    "for e in embeddings:\n",
    "    _X_train, _X_test, _y_train, _y_test = train_test_split(e[\"data\"], y, test_size=0.33)\n",
    "    train_acc = []\n",
    "    test_acc = []\n",
    "    \n",
    "    for c in tqdm(classifiers):\n",
    "        c.fit(_X_train, _y_train)\n",
    "        _y_hat_train = c.predict(_X_train)\n",
    "        _y_hat_test = c.predict(_X_test)\n",
    "        \n",
    "        train_acc.append(accuracy_score(_y_hat_train, _y_train))\n",
    "        test_acc.append(accuracy_score(_y_hat_test, _y_test))\n",
    "        \n",
    "pd.DataFrame({'embedding': list(map(lambda e: e[\"name\"], embeddings))*len(classifiers), 'classifier': classifiers, 'train accuracy': train_acc, 'test accuracy': test_acc})"
   ],
   "metadata": {
    "collapsed": false,
    "ExecuteTime": {
     "end_time": "2023-07-28T17:53:45.433356Z",
     "start_time": "2023-07-28T17:53:40.476267200Z"
    }
   }
  },
  {
   "cell_type": "markdown",
   "source": [
    "## Transformer\n",
    "Using a pre-trained transformer for sentiment analysis from Huggingface.\n",
    "Score on the validation set: 0.71\n",
    "\n",
    "This method is therefore worse than what I used before..."
   ],
   "metadata": {
    "collapsed": false
   }
  },
  {
   "cell_type": "raw",
   "source": [
    "from transformers import pipeline\n",
    "sentiment_pipeline = pipeline(\"sentiment-analysis\")\n",
    "y_pred_transformer = sentiment_pipeline(df_test['text'].tolist())\n",
    "\n",
    "y_pred_transformer"
   ],
   "metadata": {
    "collapsed": false
   }
  },
  {
   "cell_type": "raw",
   "source": [
    "# np.array([1 if x['label'] == 'POSITIVE' else 0 for x in y_pred_transformer]).tofile('y_pred_transformer.npy')\n",
    "y_pred_transformer_array = np.array(y_pred_transformer)\n",
    "np.save('y_pred_transformer.npy', y_pred_transformer_array)\n",
    "np.array(y_pred_transformer).shape[0] == len(df_test)"
   ],
   "metadata": {
    "collapsed": false
   }
  },
  {
   "cell_type": "raw",
   "source": [
    "# type(df['text'].tolist())\n",
    "_x = np.load(\"y_pred_transformer.npy\", allow_pickle=True)\n",
    "np.all(_x == y_pred_transformer_array)"
   ],
   "metadata": {
    "collapsed": false
   }
  }
 ],
 "metadata": {
  "kernelspec": {
   "display_name": "Python 3",
   "language": "python",
   "name": "python3"
  },
  "language_info": {
   "codemirror_mode": {
    "name": "ipython",
    "version": 2
   },
   "file_extension": ".py",
   "mimetype": "text/x-python",
   "name": "python",
   "nbconvert_exporter": "python",
   "pygments_lexer": "ipython2",
   "version": "2.7.6"
  }
 },
 "nbformat": 4,
 "nbformat_minor": 0
}
