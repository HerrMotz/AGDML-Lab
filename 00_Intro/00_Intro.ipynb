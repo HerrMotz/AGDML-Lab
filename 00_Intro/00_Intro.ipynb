{
 "cells": [
  {
   "cell_type": "markdown",
   "metadata": {},
   "source": [
    "# Exercise 0 - Getting started\n",
    "\n",
    "<div>\n",
    "<img src=\"images/python-logo.png\" width=\"100\"/>\n",
    "</div>\n",
    "\n",
    "This exercise is meant to get you familiar with Python. For an in-depth tour trough Python, consider the highly recommended lecture \"Skriptsprachen und Anwendungen (ASQ)\" (FMI-BI0058) by Emanuel Barth.\n",
    "\n",
    "In the event of a persistent problem, do not hesitate to contact the course instructor under\n",
    "\n",
    "- paul.kahlmeyer@uni-jena.de\n",
    "\n",
    "Python is designed for readability, therefore try to write compact and readable code.\n",
    "\n",
    "A rule of thumb should be:\n",
    "- your code explains what you are doing\n",
    "- comments explain why you are doing it\n",
    "\n",
    "### Submission\n",
    "**This exercise will give no points!**\n",
    "- Deadline of submission:\n",
    "        12.04.23 23:59\n",
    "- Submission on [moodle page](https://moodle.uni-jena.de/course/view.php?id=43681)"
   ]
  },
  {
   "cell_type": "markdown",
   "metadata": {},
   "source": [
    "## Variables, Types\n",
    "\n",
    "In this lab, we will mostly use two basic types of variables: **numbers** and **strings**. These variables can be grouped in [**lists**](https://www.w3schools.com/python/python_lists.asp), [**dictionaries**](https://www.w3schools.com/python/python_dictionaries.asp) or [**sets**](https://www.w3schools.com/python/python_sets.asp)."
   ]
  },
  {
   "cell_type": "markdown",
   "metadata": {},
   "source": [
    "### Task 1\n",
    "\n",
    "Create several variables:\n",
    "- `x` has the value of 3\n",
    "- `y` has the value of $2^{100}$\n",
    "- `a` is a string with the text \"some string\"\n",
    "- `l` is a list, that holds `x,y` and `a`\n",
    "- `d` is a dictionary with the name and phone number of three (imaginary) people\n",
    "- `s` is a set with the integers from 0 to 10"
   ]
  },
  {
   "cell_type": "code",
   "execution_count": 1,
   "metadata": {
    "ExecuteTime": {
     "start_time": "2023-04-19T10:50:18.933817Z",
     "end_time": "2023-04-19T10:50:18.956668Z"
    }
   },
   "outputs": [],
   "source": [
    "import numpy as np\n",
    "\n",
    "x = 3\n",
    "y = 2**100\n",
    "a = \"some string\"\n",
    "l = [x, y, a]\n",
    "\n",
    "d = [\n",
    "    {\n",
    "        \"name\": \"Paul\",\n",
    "        \"phone\": \"0800 1232340\"\n",
    "    },\n",
    "    {\n",
    "        \"name\": \"Jonas\",\n",
    "        \"phone\": \"0800 0100910\"\n",
    "    },\n",
    "    {\n",
    "        \"name\": \"Schööön\",\n",
    "        \"phone\": \"0900 6969420\"\n",
    "    }\n",
    "]\n",
    "\n",
    "s = {i for i in range (11)}"
   ]
  },
  {
   "cell_type": "markdown",
   "metadata": {},
   "source": [
    "## Branches and Loops\n",
    "\n",
    "Similar to other programming languages, Python has [**for**](https://www.w3schools.com/python/python_for_loops.asp)- and [**while**](https://www.w3schools.com/python/python_while_loops.asp)- loops, as well as [**if-else**](https://www.w3schools.com/python/python_conditions.asp) conditioning.\n",
    "\n",
    "### Task 2\n",
    "Use a for loop to iterate over the dictionary `d` and print the persons and their phone numbers."
   ]
  },
  {
   "cell_type": "code",
   "execution_count": 2,
   "metadata": {
    "ExecuteTime": {
     "start_time": "2023-04-19T10:50:18.957207Z",
     "end_time": "2023-04-19T10:50:18.967302Z"
    }
   },
   "outputs": [
    {
     "name": "stdout",
     "output_type": "stream",
     "text": [
      "Name: Paul Telefon: 0800 1232340\n",
      "Name: Jonas Telefon: 0800 0100910\n",
      "Name: Schööön Telefon: 0900 6969420\n"
     ]
    }
   ],
   "source": [
    "for person in d:\n",
    "    print(\"Name:\", person['name'], \"Telefon:\", person['phone'])"
   ]
  },
  {
   "cell_type": "markdown",
   "metadata": {},
   "source": [
    "### Task 3\n",
    "Use a for loop to iterate over the set `s` and print only the even numbers."
   ]
  },
  {
   "cell_type": "code",
   "execution_count": 3,
   "metadata": {
    "ExecuteTime": {
     "start_time": "2023-04-19T10:50:18.967129Z",
     "end_time": "2023-04-19T10:50:18.967730Z"
    }
   },
   "outputs": [
    {
     "name": "stdout",
     "output_type": "stream",
     "text": [
      "0\n",
      "2\n",
      "4\n",
      "6\n",
      "8\n",
      "10\n"
     ]
    }
   ],
   "source": [
    "for i in s:\n",
    "    if i % 2 == 0:\n",
    "        print(i)"
   ]
  },
  {
   "cell_type": "markdown",
   "metadata": {},
   "source": [
    "### Task 4\n",
    "Calculate the first 10 powers of 2: ($2^0,2^1,2^2,\\dots,2^9)$ \n",
    "and store them in a list\n",
    "- using a for loop\n",
    "- using a while loop\n",
    "\n",
    "Compare the results."
   ]
  },
  {
   "cell_type": "code",
   "execution_count": 4,
   "metadata": {
    "ExecuteTime": {
     "start_time": "2023-04-19T10:50:18.969378Z",
     "end_time": "2023-04-19T10:50:19.044285Z"
    }
   },
   "outputs": [
    {
     "name": "stdout",
     "output_type": "stream",
     "text": [
      "1\n",
      "2\n",
      "4\n",
      "8\n",
      "16\n",
      "32\n",
      "64\n",
      "128\n",
      "256\n",
      "512\n"
     ]
    }
   ],
   "source": [
    "# TODO: print first 10 powers of 2 with for loop\n",
    "powers_of_two = [2**i for i in range(10)]\n",
    "\n",
    "# TODO: print first 10 powers of 2 with while loop\n",
    "i = 0\n",
    "while i < 10:\n",
    "    print(powers_of_two[i])\n",
    "    i += 1"
   ]
  },
  {
   "cell_type": "markdown",
   "metadata": {},
   "source": [
    "[Functions](https://www.w3schools.com/python/python_functions.asp) are a convenient way to encapsulate calculation steps.\n",
    "\n",
    "### Task 5\n",
    "Create a function, that returns a list of the first $n$ [fibonacci numbers](https://en.wikipedia.org/wiki/Fibonacci_number)."
   ]
  },
  {
   "cell_type": "code",
   "execution_count": 5,
   "metadata": {
    "ExecuteTime": {
     "start_time": "2023-04-19T10:50:18.978772Z",
     "end_time": "2023-04-19T10:50:19.053664Z"
    }
   },
   "outputs": [
    {
     "data": {
      "text/plain": "[0, 1, 1, 2, 3, 5, 8, 13, 21, 34]"
     },
     "execution_count": 5,
     "metadata": {},
     "output_type": "execute_result"
    }
   ],
   "source": [
    "def fib(n: int) -> list:\n",
    "    '''\n",
    "    Calculates sequence of the first n fibonacci numbers.\n",
    "    \n",
    "    @Params:\n",
    "        n... last index in fibonacci sequence\n",
    "    \n",
    "    @Returns:\n",
    "        sequence of the first n fibonacci numbers.\n",
    "        Example: fib(10) will return [0, 1, 1, 2, 3, 5, 8, 13, 21, 34]\n",
    "    '''\n",
    "    l = [0, 1]\n",
    "    for _ in range(n-2):\n",
    "        l.append(l[-1] + l[-2])\n",
    "\n",
    "    return l\n",
    "\n",
    "fib(10)"
   ]
  },
  {
   "cell_type": "markdown",
   "metadata": {},
   "source": [
    "## Numpy and Matplotlib\n",
    "\n",
    "In the context of scientific computing, [NumPy](https://numpy.org/) is probably the most important package in Python. \n",
    "\n",
    "### Task 6\n",
    "Install and import numpy. Create a numpy array with 10 numbers. Multiply this array by 10 and calculate the mean of the array. Do not use loops, but work directly on the array."
   ]
  },
  {
   "cell_type": "code",
   "execution_count": 6,
   "metadata": {
    "ExecuteTime": {
     "start_time": "2023-04-19T10:50:18.993714Z",
     "end_time": "2023-04-19T10:50:19.054278Z"
    }
   },
   "outputs": [
    {
     "data": {
      "text/plain": "0.43501478545618066"
     },
     "execution_count": 6,
     "metadata": {},
     "output_type": "execute_result"
    }
   ],
   "source": [
    "# TODO: create numpy array, multiply by 10 and calculate mean\n",
    "import numpy as np\n",
    "a = np.random.rand(10,1)\n",
    "\n",
    "np.mean(a)"
   ]
  },
  {
   "cell_type": "markdown",
   "metadata": {},
   "source": [
    "[Matplotlib](https://matplotlib.org/) is a package for plotting and visualization in Python.\n",
    "\n",
    "### Task 7\n",
    "\n",
    "Use numpy to calculate the function \n",
    "\\begin{equation}\n",
    "f(x) = x^2-10\\sin(2x)\n",
    "\\end{equation}\n",
    "for $x=1,\\dots,50$. \n",
    "\n",
    "Use matplotlib to draw the function."
   ]
  },
  {
   "cell_type": "code",
   "execution_count": 7,
   "metadata": {
    "ExecuteTime": {
     "start_time": "2023-04-19T10:50:19.004039Z",
     "end_time": "2023-04-19T10:50:19.421093Z"
    }
   },
   "outputs": [
    {
     "data": {
      "text/plain": "<Figure size 640x480 with 1 Axes>",
      "image/png": "[encoded data removed]"
     },
     "metadata": {},
     "output_type": "display_data"
    }
   ],
   "source": [
    "# TODO: calculate and plot the function values\n",
    "import matplotlib.pyplot as plt\n",
    "\n",
    "x = np.arange(1, 50)\n",
    "y = x ** 2 - 10 * np.sin(2 * x)\n",
    "\n",
    "plt.plot(x, y)\n",
    "\n",
    "plt.show()"
   ]
  },
  {
   "cell_type": "markdown",
   "metadata": {},
   "source": [
    "## Saving and Loading Results\n",
    "\n",
    "Numpy provides you with a simple and quick way of saving and loading numpy arrays. \n",
    "\n",
    "### Task 8\n",
    "Use the [numpy.load](https://numpy.org/doc/stable/reference/generated/numpy.load.html) function, to load the arrays located in the directory **parts/**. Sum these arrays up, and display the result using matplotlibs [imshow](https://matplotlib.org/stable/api/_as_gen/matplotlib.pyplot.imshow.html) function. Finally, use the [numpy.save](https://numpy.org/doc/stable/reference/generated/numpy.save.html) function, to save the result as **result.npy**."
   ]
  },
  {
   "cell_type": "code",
   "execution_count": 8,
   "metadata": {
    "ExecuteTime": {
     "start_time": "2023-04-14T13:09:02.260997Z",
     "end_time": "2023-04-14T13:09:02.409969Z"
    }
   },
   "outputs": [
    {
     "ename": "NameError",
     "evalue": "name 'numpy' is not defined",
     "output_type": "error",
     "traceback": [
      "\u001B[0;31m---------------------------------------------------------------------------\u001B[0m",
      "\u001B[0;31mNameError\u001B[0m                                 Traceback (most recent call last)",
      "Cell \u001B[0;32mIn[8], line 2\u001B[0m\n\u001B[1;32m      1\u001B[0m \u001B[38;5;66;03m# TODO: load arrays\u001B[39;00m\n\u001B[0;32m----> 2\u001B[0m a \u001B[38;5;241m=\u001B[39m \u001B[43m[\u001B[49m\u001B[43mnumpy\u001B[49m\u001B[38;5;241;43m.\u001B[39;49m\u001B[43mload\u001B[49m\u001B[43m(\u001B[49m\u001B[38;5;124;43mf\u001B[39;49m\u001B[38;5;124;43m\"\u001B[39;49m\u001B[38;5;124;43mparts/array_\u001B[39;49m\u001B[38;5;132;43;01m{\u001B[39;49;00m\u001B[43mi\u001B[49m\u001B[38;5;132;43;01m}\u001B[39;49;00m\u001B[38;5;124;43m.npy\u001B[39;49m\u001B[38;5;124;43m\"\u001B[39;49m\u001B[43m)\u001B[49m\u001B[43m \u001B[49m\u001B[38;5;28;43;01mfor\u001B[39;49;00m\u001B[43m \u001B[49m\u001B[43mi\u001B[49m\u001B[43m \u001B[49m\u001B[38;5;129;43;01min\u001B[39;49;00m\u001B[43m \u001B[49m\u001B[38;5;28;43mrange\u001B[39;49m\u001B[43m(\u001B[49m\u001B[38;5;241;43m10\u001B[39;49m\u001B[43m)\u001B[49m\u001B[43m]\u001B[49m\n\u001B[1;32m      4\u001B[0m \u001B[38;5;66;03m# TODO: sum arrays\u001B[39;00m\n\u001B[1;32m      5\u001B[0m r \u001B[38;5;241m=\u001B[39m np\u001B[38;5;241m.\u001B[39mzeros((\u001B[38;5;241m100\u001B[39m, \u001B[38;5;241m100\u001B[39m))\n",
      "Cell \u001B[0;32mIn[8], line 2\u001B[0m, in \u001B[0;36m<listcomp>\u001B[0;34m(.0)\u001B[0m\n\u001B[1;32m      1\u001B[0m \u001B[38;5;66;03m# TODO: load arrays\u001B[39;00m\n\u001B[0;32m----> 2\u001B[0m a \u001B[38;5;241m=\u001B[39m [\u001B[43mnumpy\u001B[49m\u001B[38;5;241m.\u001B[39mload(\u001B[38;5;124mf\u001B[39m\u001B[38;5;124m\"\u001B[39m\u001B[38;5;124mparts/array_\u001B[39m\u001B[38;5;132;01m{\u001B[39;00mi\u001B[38;5;132;01m}\u001B[39;00m\u001B[38;5;124m.npy\u001B[39m\u001B[38;5;124m\"\u001B[39m) \u001B[38;5;28;01mfor\u001B[39;00m i \u001B[38;5;129;01min\u001B[39;00m \u001B[38;5;28mrange\u001B[39m(\u001B[38;5;241m10\u001B[39m)]\n\u001B[1;32m      4\u001B[0m \u001B[38;5;66;03m# TODO: sum arrays\u001B[39;00m\n\u001B[1;32m      5\u001B[0m r \u001B[38;5;241m=\u001B[39m np\u001B[38;5;241m.\u001B[39mzeros((\u001B[38;5;241m100\u001B[39m, \u001B[38;5;241m100\u001B[39m))\n",
      "\u001B[0;31mNameError\u001B[0m: name 'numpy' is not defined"
     ]
    }
   ],
   "source": [
    "# TODO: load arrays\n",
    "a = [numpy.load(f\"parts/array_{i}.npy\") for i in range(10)]\n",
    "\n",
    "# TODO: sum arrays\n",
    "r = np.zeros((100, 100))\n",
    "\n",
    "for i in range(10):\n",
    "    r = np.add(r, a[i])\n",
    "\n",
    "# TODO: display sum\n",
    "print(r)\n",
    "\n",
    "# TODO: save result\n",
    "numpy.save(\"sum.npy\", r)\n",
    "\n",
    "plt.imshow(r)"
   ]
  },
  {
   "cell_type": "markdown",
   "metadata": {},
   "source": [
    "[Dill](https://dill.readthedocs.io/en/latest/dill.html) is a package, that lets you load and save python functions.\n",
    "\n",
    "For later exercises, if the solution of a task requires a function from a previous task, I will provide my own implementation in the `help` directory. \n",
    "\n",
    "### Task 9\n",
    "\n",
    "Install dill and use it to load the function `help/some_func.pkl`. Find out, what this function does."
   ]
  },
  {
   "cell_type": "code",
   "execution_count": null,
   "metadata": {
    "scrolled": true,
    "ExecuteTime": {
     "start_time": "2023-04-14T13:09:02.400953Z",
     "end_time": "2023-04-14T13:09:02.421110Z"
    }
   },
   "outputs": [],
   "source": [
    "import dill\n",
    "\n",
    "some_func = dill.load(open(\"help/some_func.pkl\", \"rb\"))\n",
    "some_func()"
   ]
  },
  {
   "cell_type": "code",
   "execution_count": null,
   "metadata": {
    "ExecuteTime": {
     "start_time": "2023-04-14T13:09:02.427715Z",
     "end_time": "2023-04-14T13:09:02.632339Z"
    }
   },
   "outputs": [],
   "source": [
    "plt.plot(some_func())\n",
    "plt.show()"
   ]
  },
  {
   "cell_type": "code",
   "execution_count": null,
   "metadata": {
    "ExecuteTime": {
     "start_time": "2023-04-14T13:09:02.634015Z",
     "end_time": "2023-04-14T13:09:02.760610Z"
    }
   },
   "outputs": [],
   "source": [
    "x, y = some_func()\n",
    "plt.plot(x, y)\n",
    "plt.show()"
   ]
  }
 ],
 "metadata": {
  "kernelspec": {
   "display_name": "Python 3",
   "language": "python",
   "name": "python3"
  },
  "language_info": {
   "codemirror_mode": {
    "name": "ipython",
    "version": 3
   },
   "file_extension": ".py",
   "mimetype": "text/x-python",
   "name": "python",
   "nbconvert_exporter": "python",
   "pygments_lexer": "ipython3",
   "version": "3.8.3"
  },
  "vscode": {
   "interpreter": {
    "hash": "004143210075401ef82419ed6cda708612e9bd72b41c655d67f5d5c5fe2e04e4"
   }
  }
 },
 "nbformat": 4,
 "nbformat_minor": 4
}
