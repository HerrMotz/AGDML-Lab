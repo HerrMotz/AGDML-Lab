{
 "cells": [
  {
   "cell_type": "markdown",
   "metadata": {},
   "source": [
    "# Exercise 0 - Getting started\n",
    "\n",
    "<div>\n",
    "<img src=\"images/python-logo.png\" width=\"100\"/>\n",
    "</div>\n",
    "\n",
    "This exercise is meant to get you familiar with Python. For an in-depth tour trough Python, consider the highly recommended lecture \"Skriptsprachen und Anwendungen (ASQ)\" (FMI-BI0058) by Emanuel Barth.\n",
    "\n",
    "In the event of a persistent problem, do not hesitate to contact the course instructor under\n",
    "\n",
    "- paul.kahlmeyer@uni-jena.de\n",
    "\n",
    "Python is designed for readability, therefore try to write compact and readable code.\n",
    "\n",
    "A rule of thumb should be:\n",
    "- your code explains what you are doing\n",
    "- comments explain why you are doing it\n",
    "\n",
    "### Submission\n",
    "**This exercise will give no points!**\n",
    "- Deadline of submission:\n",
    "        12.04.23 23:59\n",
    "- Submission on [moodle page](https://moodle.uni-jena.de/course/view.php?id=43681)"
   ]
  },
  {
   "cell_type": "markdown",
   "metadata": {},
   "source": [
    "## Variables, Types\n",
    "\n",
    "In this lab, we will mostly use two basic types of variables: **numbers** and **strings**. These variables can be grouped in [**lists**](https://www.w3schools.com/python/python_lists.asp), [**dictionaries**](https://www.w3schools.com/python/python_dictionaries.asp) or [**sets**](https://www.w3schools.com/python/python_sets.asp)."
   ]
  },
  {
   "cell_type": "markdown",
   "metadata": {},
   "source": [
    "### Task 1\n",
    "\n",
    "Create several variables:\n",
    "- `x` has the value of 3\n",
    "- `y` has the value of $2^{100}$\n",
    "- `a` is a string with the text \"some string\"\n",
    "- `l` is a list, that holds `x,y` and `a`\n",
    "- `d` is a dictionary with the name and phone number of three (imaginary) people\n",
    "- `s` is a set with the integers from 0 to 10"
   ]
  },
  {
   "cell_type": "code",
   "execution_count": null,
   "metadata": {},
   "outputs": [],
   "source": [
    "# TODO: create variables"
   ]
  },
  {
   "cell_type": "markdown",
   "metadata": {},
   "source": [
    "## Branches and Loops\n",
    "\n",
    "Similar to other programming languages, Python has [**for**](https://www.w3schools.com/python/python_for_loops.asp)- and [**while**](https://www.w3schools.com/python/python_while_loops.asp)- loops, as well as [**if-else**](https://www.w3schools.com/python/python_conditions.asp) conditioning.\n",
    "\n",
    "### Task 2\n",
    "Use a for loop to iterate over the dictionary `d` and print the persons and their phone numbers."
   ]
  },
  {
   "cell_type": "code",
   "execution_count": null,
   "metadata": {},
   "outputs": [],
   "source": [
    "# TODO: iterate over d"
   ]
  },
  {
   "cell_type": "markdown",
   "metadata": {},
   "source": [
    "### Task 3\n",
    "Use a for loop to iterate over the set `s` and print only the even numbers."
   ]
  },
  {
   "cell_type": "code",
   "execution_count": null,
   "metadata": {},
   "outputs": [],
   "source": [
    "# TODO: iterate over s, print even numbers"
   ]
  },
  {
   "cell_type": "markdown",
   "metadata": {},
   "source": [
    "### Task 4\n",
    "Calculate the first 10 powers of 2: ($2^0,2^1,2^2,\\dots,2^9)$ \n",
    "and store them in a list\n",
    "- using a for loop\n",
    "- using a while loop\n",
    "\n",
    "Compare the results."
   ]
  },
  {
   "cell_type": "code",
   "execution_count": null,
   "metadata": {},
   "outputs": [],
   "source": [
    "# TODO: print first 10 powers of 2 with for loop\n",
    "\n",
    "# TODO: print first 10 powers of 2 with while loop"
   ]
  },
  {
   "cell_type": "markdown",
   "metadata": {},
   "source": [
    "[Functions](https://www.w3schools.com/python/python_functions.asp) are a convenient way to encapsulate calculation steps.\n",
    "\n",
    "### Task 5\n",
    "Create a function, that returns a list of the first $n$ [fibonacci numbers](https://en.wikipedia.org/wiki/Fibonacci_number)."
   ]
  },
  {
   "cell_type": "code",
   "execution_count": null,
   "metadata": {},
   "outputs": [],
   "source": [
    "def fib(n: int) -> list:\n",
    "    '''\n",
    "    Calculates sequence of the first n fibonacci numbers.\n",
    "    \n",
    "    @Params:\n",
    "        n... last index in fibonacci sequence\n",
    "    \n",
    "    @Returns:\n",
    "        sequence of the first n fibonacci numbers.\n",
    "        Example: fib(10) will return [0, 1, 1, 2, 3, 5, 8, 13, 21, 34]\n",
    "    '''\n",
    "    # TODO: complete function\n",
    "    pass"
   ]
  },
  {
   "cell_type": "markdown",
   "metadata": {},
   "source": [
    "## Numpy and Matplotlib\n",
    "\n",
    "In the context of scientific computing, [NumPy](https://numpy.org/) is probably the most important package in Python. \n",
    "\n",
    "### Task 6\n",
    "Install and import numpy. Create a numpy array with 10 numbers. Multiply this array by 10 and calculate the mean of the array. Do not use loops, but work directly on the array."
   ]
  },
  {
   "cell_type": "code",
   "execution_count": null,
   "metadata": {},
   "outputs": [],
   "source": [
    "# TODO: create numpy array, multiply by 10 and calculate mean"
   ]
  },
  {
   "cell_type": "markdown",
   "metadata": {},
   "source": [
    "[Matplotlib](https://matplotlib.org/) is a package for plotting and visualization in Python.\n",
    "\n",
    "### Task 7\n",
    "\n",
    "Use numpy to calculate the function \n",
    "\\begin{equation}\n",
    "f(x) = x^2-10\\sin(2x)\n",
    "\\end{equation}\n",
    "for $x=1,\\dots,50$. \n",
    "\n",
    "Use matplotlib to draw the function."
   ]
  },
  {
   "cell_type": "code",
   "execution_count": null,
   "metadata": {},
   "outputs": [],
   "source": [
    "# TODO: calculate and plot the function values"
   ]
  },
  {
   "cell_type": "markdown",
   "metadata": {},
   "source": [
    "## Saving and Loading Results\n",
    "\n",
    "Numpy provides you with a simple and quick way of saving and loading numpy arrays. \n",
    "\n",
    "### Task 8\n",
    "Use the [numpy.load](https://numpy.org/doc/stable/reference/generated/numpy.load.html) function, to load the arrays located in the directory **parts/**. Sum these arrays up, and display the result using matplotlibs [imshow](https://matplotlib.org/stable/api/_as_gen/matplotlib.pyplot.imshow.html) function. Finally, use the [numpy.save](https://numpy.org/doc/stable/reference/generated/numpy.save.html) function, to save the result as **result.npy**."
   ]
  },
  {
   "cell_type": "code",
   "execution_count": null,
   "metadata": {},
   "outputs": [],
   "source": [
    "# TODO: load arrays\n",
    "    \n",
    "# TODO: sum arrays\n",
    "\n",
    "# TODO: display sum\n",
    "\n",
    "# TODO: save result"
   ]
  },
  {
   "cell_type": "markdown",
   "metadata": {},
   "source": [
    "[Dill](https://dill.readthedocs.io/en/latest/dill.html) is a package, that lets you load and save python functions.\n",
    "\n",
    "For later exercises, if the solution of a task requires a function from a previous task, I will provide my own implementation in the `help` directory. \n",
    "\n",
    "### Task 9\n",
    "\n",
    "Install dill and use it to load the function `help/some_func.pkl`. Find out, what this function does."
   ]
  },
  {
   "cell_type": "code",
   "execution_count": null,
   "metadata": {},
   "outputs": [],
   "source": [
    "# TODO: Use dill to load function and find out, what it does"
   ]
  }
 ],
 "metadata": {
  "kernelspec": {
   "display_name": "Python 3 (ipykernel)",
   "language": "python",
   "name": "python3"
  },
  "language_info": {
   "codemirror_mode": {
    "name": "ipython",
    "version": 3
   },
   "file_extension": ".py",
   "mimetype": "text/x-python",
   "name": "python",
   "nbconvert_exporter": "python",
   "pygments_lexer": "ipython3",
   "version": "3.9.12"
  }
 },
 "nbformat": 4,
 "nbformat_minor": 4
}
