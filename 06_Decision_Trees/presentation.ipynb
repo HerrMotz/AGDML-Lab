{
 "cells": [
  {
   "cell_type": "markdown",
   "id": "9c47211c",
   "metadata": {},
   "source": [
    "# Decision Trees"
   ]
  },
  {
   "cell_type": "code",
   "execution_count": 2,
   "id": "37cd666f",
   "metadata": {},
   "outputs": [],
   "source": [
    "import numpy as np\n",
    "import matplotlib.pyplot as plt"
   ]
  },
  {
   "cell_type": "code",
   "execution_count": 61,
   "id": "6c02ce28",
   "metadata": {
    "scrolled": true
   },
   "outputs": [
    {
     "data": {
      "image/png": "[encoded data removed]",
      "text/plain": [
       "<Figure size 432x288 with 1 Axes>"
      ]
     },
     "metadata": {
      "needs_background": "light"
     },
     "output_type": "display_data"
    }
   ],
   "source": [
    "X = np.array([\n",
    "    [-2, -2],\n",
    "    [-1, 1],\n",
    "    [0, 4],\n",
    "    [1, -1],\n",
    "    [2, 2]\n",
    "])\n",
    "y = np.array([0, 1 ,0, 1, 0])\n",
    "plt.scatter(X[:, 0], X[:, 1], c= y, cmap = 'bwr')\n",
    "plt.xlabel(r'$x_0$')\n",
    "plt.ylabel(r'$x_1$')\n",
    "plt.savefig('images/data.pdf', bbox_inches = 'tight')"
   ]
  },
  {
   "cell_type": "code",
   "execution_count": 32,
   "id": "2c5084e8",
   "metadata": {},
   "outputs": [
    {
     "data": {
      "text/plain": [
       "array([ True,  True,  True,  True,  True])"
      ]
     },
     "execution_count": 32,
     "metadata": {},
     "output_type": "execute_result"
    }
   ],
   "source": [
    "def classify(X):\n",
    "    x_idx = np.arange(len(X))\n",
    "    ret = np.zeros(len(X)).astype(int)\n",
    "    \n",
    "    mask1 = X[:, 1] > 1.5\n",
    "    mask2 = X[:, 0] < -1.5\n",
    "    \n",
    "    \n",
    "    ret[mask1 | (~mask1&mask2)] = 0\n",
    "    ret[(~mask1&~mask2)] = 1\n",
    "    \n",
    "    return ret\n",
    "\n",
    "\n",
    "classify(X) == y"
   ]
  },
  {
   "cell_type": "markdown",
   "id": "917f7b39",
   "metadata": {},
   "source": [
    "## Gini-Impurity\n",
    "\n",
    "Probability that we would missclassify if we use distribution of labels.\n",
    "- all the same = 0\n",
    "- mixed = high\n",
    "\n",
    "\n",
    "\\begin{align}\n",
    "1 - \\sum_i{p_i^2}\n",
    "\\end{align}"
   ]
  },
  {
   "cell_type": "code",
   "execution_count": 62,
   "id": "800c210c",
   "metadata": {
    "scrolled": true
   },
   "outputs": [
    {
     "data": {
      "text/plain": [
       "0.48"
      ]
     },
     "execution_count": 62,
     "metadata": {},
     "output_type": "execute_result"
    }
   ],
   "source": [
    "p0 = np.mean(y)\n",
    "p1 = 1 - p0\n",
    "1 - (p0**2 + p1**2)"
   ]
  },
  {
   "cell_type": "markdown",
   "id": "0c9bcb70",
   "metadata": {},
   "source": [
    "Two classes"
   ]
  },
  {
   "cell_type": "code",
   "execution_count": 75,
   "id": "51cab698",
   "metadata": {},
   "outputs": [
    {
     "data": {
      "image/png": "[encoded data removed]",
      "text/plain": [
       "<Figure size 432x288 with 1 Axes>"
      ]
     },
     "metadata": {
      "needs_background": "light"
     },
     "output_type": "display_data"
    }
   ],
   "source": [
    "p0 = np.linspace(0, 1, 100)\n",
    "gi = 2*(p0 - p0**2)\n",
    "plt.plot(p0, gi)\n",
    "plt.xlabel(r'$p_0$')\n",
    "plt.ylabel(r'$I_G$')\n",
    "plt.savefig('images/gini_idx.pdf', bbox_inches = 'tight')"
   ]
  },
  {
   "cell_type": "markdown",
   "id": "9e83fad3",
   "metadata": {},
   "source": [
    "For a split: weighted Impurity"
   ]
  },
  {
   "cell_type": "code",
   "execution_count": 58,
   "id": "16862d2e",
   "metadata": {},
   "outputs": [
    {
     "data": {
      "text/plain": [
       "(0.5, 0.4444444444444444)"
      ]
     },
     "execution_count": 58,
     "metadata": {},
     "output_type": "execute_result"
    }
   ],
   "source": [
    "split_idx = 1\n",
    "split_value = 0.5\n",
    "\n",
    "mask = (X[:, split_idx] <= split_value)\n",
    "y1 = y[mask]\n",
    "y2 = y[~mask]\n",
    "\n",
    "# impurity for y1\n",
    "p0 = np.mean(y1)\n",
    "p1 = 1 - p0\n",
    "imp1 = 1 - (p0**2 + p1**2)\n",
    "\n",
    "# impurity for y2\n",
    "p0 = np.mean(y2)\n",
    "p1 = 1 - p0\n",
    "imp2 = 1 - (p0**2 + p1**2)\n",
    "\n",
    "imp1, imp2"
   ]
  },
  {
   "cell_type": "markdown",
   "id": "2e8ba084",
   "metadata": {},
   "source": [
    "Find best split according to Gini-Impurity"
   ]
  },
  {
   "cell_type": "code",
   "execution_count": 41,
   "id": "aa5603e2",
   "metadata": {},
   "outputs": [
    {
     "name": "stdout",
     "output_type": "stream",
     "text": [
      "-2 0 0.4\n",
      "-2 1 0.4\n",
      "-1 0 0.4666666666666667\n",
      "1 1 0.26666666666666666\n",
      "0 0 0.4666666666666667\n",
      "1 0 0.4\n",
      "-1 1 0.4666666666666667\n",
      "2 1 0.4\n"
     ]
    }
   ],
   "source": [
    "for x in X:\n",
    "    for split_idx in range(len(x)):\n",
    "        split_v = x[split_idx]\n",
    "        \n",
    "        mask = (X[:, split_idx] <= split_v)\n",
    "        y1 = y[mask]\n",
    "        y2 = y[~mask]\n",
    "        \n",
    "        if len(y1) > 0 and len(y2) > 0:\n",
    "            # impurity for y1\n",
    "            p0 = np.mean(y1)\n",
    "            p1 = 1 - p0\n",
    "            imp1 = 1 - (p0**2 + p1**2)\n",
    "\n",
    "            # impurity for y2\n",
    "            p0 = np.mean(y2)\n",
    "            p1 = 1 - p0\n",
    "            imp2 = 1 - (p0**2 + p1**2)\n",
    "\n",
    "            w_imp = len(y1)/len(y)*imp1 + len(y2)/len(y)*imp2\n",
    "\n",
    "            print(split_v, split_idx, w_imp)"
   ]
  },
  {
   "cell_type": "code",
   "execution_count": 49,
   "id": "3f83043f",
   "metadata": {},
   "outputs": [
    {
     "data": {
      "text/plain": [
       "[<matplotlib.lines.Line2D at 0x1b769947af0>]"
      ]
     },
     "execution_count": 49,
     "metadata": {},
     "output_type": "execute_result"
    },
    {
     "data": {
      "image/png": "[encoded data removed]",
      "text/plain": [
       "<Figure size 432x288 with 1 Axes>"
      ]
     },
     "metadata": {
      "needs_background": "light"
     },
     "output_type": "display_data"
    }
   ],
   "source": [
    "# x1 <= 1 wins\n",
    "plt.scatter(X[:, 0], X[:, 1], c= y, cmap = 'bwr')\n",
    "plt.plot([min(X[:, 0]), max(X[:, 0])], [1, 1], linestyle = '--', color = 'gray')"
   ]
  },
  {
   "cell_type": "code",
   "execution_count": 57,
   "id": "10b8e566",
   "metadata": {},
   "outputs": [
    {
     "data": {
      "text/plain": [
       "[<matplotlib.lines.Line2D at 0x1b76d647310>]"
      ]
     },
     "execution_count": 57,
     "metadata": {},
     "output_type": "execute_result"
    },
    {
     "data": {
      "image/png": "[encoded data removed]",
      "text/plain": [
       "<Figure size 432x288 with 1 Axes>"
      ]
     },
     "metadata": {
      "needs_background": "light"
     },
     "output_type": "display_data"
    }
   ],
   "source": [
    "# x1 = 1 lies on datapoint, use average with next x1 value\n",
    "v1 = 1\n",
    "v2 = np.min(X[:, 1][X[:, 1] > v1])\n",
    "v_new = 0.5*(v1 + v2)\n",
    "\n",
    "plt.scatter(X[:, 0], X[:, 1], c= y, cmap = 'bwr')\n",
    "plt.plot([min(X[:, 0]), max(X[:, 0])], [v_new, v_new], linestyle = '--', color = 'gray')"
   ]
  }
 ],
 "metadata": {
  "kernelspec": {
   "display_name": "Python 3 (ipykernel)",
   "language": "python",
   "name": "python3"
  },
  "language_info": {
   "codemirror_mode": {
    "name": "ipython",
    "version": 3
   },
   "file_extension": ".py",
   "mimetype": "text/x-python",
   "name": "python",
   "nbconvert_exporter": "python",
   "pygments_lexer": "ipython3",
   "version": "3.9.12"
  }
 },
 "nbformat": 4,
 "nbformat_minor": 5
}
