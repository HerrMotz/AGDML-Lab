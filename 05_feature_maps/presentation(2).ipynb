{
 "cells": [
  {
   "cell_type": "markdown",
   "id": "9c47211c",
   "metadata": {},
   "source": [
    "# Convolution"
   ]
  },
  {
   "cell_type": "code",
   "execution_count": 1,
   "id": "37cd666f",
   "metadata": {
    "ExecuteTime": {
     "end_time": "2023-05-17T14:27:36.552941600Z",
     "start_time": "2023-05-17T14:27:36.192975123Z"
    }
   },
   "outputs": [],
   "source": [
    "import numpy as np\n",
    "import matplotlib.pyplot as plt"
   ]
  },
  {
   "cell_type": "code",
   "execution_count": 2,
   "id": "6c02ce28",
   "metadata": {
    "ExecuteTime": {
     "end_time": "2023-05-17T14:27:36.704810842Z",
     "start_time": "2023-05-17T14:27:36.553577117Z"
    }
   },
   "outputs": [
    {
     "data": {
      "text/plain": "<matplotlib.image.AxesImage at 0x7f4653c094d0>"
     },
     "execution_count": 2,
     "metadata": {},
     "output_type": "execute_result"
    },
    {
     "data": {
      "text/plain": "<Figure size 640x480 with 1 Axes>",
      "image/png": "[encoded data removed]"
     },
     "metadata": {},
     "output_type": "display_data"
    }
   ],
   "source": [
    "img = np.zeros((5, 5))\n",
    "img[2, :] = 1.0\n",
    "img[:, 2] = 1.0\n",
    "plt.imshow(img, cmap = 'gray')\n"
   ]
  },
  {
   "cell_type": "code",
   "execution_count": 3,
   "id": "38feb292",
   "metadata": {
    "ExecuteTime": {
     "end_time": "2023-05-17T14:27:36.705339928Z",
     "start_time": "2023-05-17T14:27:36.702561801Z"
    }
   },
   "outputs": [],
   "source": [
    "K = np.ones((3, 3))/9\n",
    "d = K.shape[0]//2"
   ]
  },
  {
   "cell_type": "code",
   "execution_count": 4,
   "id": "f152fbe4",
   "metadata": {
    "ExecuteTime": {
     "end_time": "2023-05-17T14:27:36.921879377Z",
     "start_time": "2023-05-17T14:27:36.704509358Z"
    }
   },
   "outputs": [
    {
     "data": {
      "text/plain": "<matplotlib.image.AxesImage at 0x7f4653a04310>"
     },
     "execution_count": 4,
     "metadata": {},
     "output_type": "execute_result"
    },
    {
     "data": {
      "text/plain": "<Figure size 640x480 with 1 Axes>",
      "image/png": "[encoded data removed]"
     },
     "metadata": {},
     "output_type": "display_data"
    }
   ],
   "source": [
    "pad_img = np.pad(img, d)\n",
    "plt.imshow(pad_img, cmap = 'gray')   "
   ]
  },
  {
   "cell_type": "code",
   "execution_count": 5,
   "id": "59e7b988",
   "metadata": {
    "scrolled": false,
    "ExecuteTime": {
     "end_time": "2023-05-17T14:27:37.009002096Z",
     "start_time": "2023-05-17T14:27:36.906396499Z"
    }
   },
   "outputs": [
    {
     "data": {
      "text/plain": "<matplotlib.image.AxesImage at 0x7f4653a9b110>"
     },
     "execution_count": 5,
     "metadata": {},
     "output_type": "execute_result"
    },
    {
     "data": {
      "text/plain": "<Figure size 640x480 with 1 Axes>",
      "image/png": "[encoded data removed]"
     },
     "metadata": {},
     "output_type": "display_data"
    }
   ],
   "source": [
    "c_img = np.zeros(img.shape)\n",
    "for i in range(img.shape[0]):\n",
    "    for j in range(img.shape[1]):\n",
    "        part = pad_img[i : i+K.shape[0], j : j+K.shape[1]]\n",
    "        c_img[i, j] = (part*K).sum()\n",
    "plt.imshow(c_img, cmap = 'gray', vmin = 0, vmax = 1.0)"
   ]
  },
  {
   "cell_type": "markdown",
   "id": "a9cd020f",
   "metadata": {},
   "source": [
    "## Einsum\n",
    "\n",
    "See [here](https://stackoverflow.com/questions/26089893/understanding-numpys-einsum) for good explanations.\n",
    "\n",
    "- Repeating letters between input arrays means that values along those axes will be multiplied together. The products make up the values for the output array.\n",
    "- Omitting a letter from the output means that values along that axis will be summed.\n",
    "- We can return the unsummed axes in any order we like"
   ]
  },
  {
   "cell_type": "code",
   "execution_count": 6,
   "id": "52ec6cc3",
   "metadata": {
    "ExecuteTime": {
     "end_time": "2023-05-17T14:27:37.016532363Z",
     "start_time": "2023-05-17T14:27:37.011245496Z"
    }
   },
   "outputs": [
    {
     "data": {
      "text/plain": "array([1.39993657, 1.58178377, 1.42019606, 1.25900474, 1.12947343])"
     },
     "execution_count": 6,
     "metadata": {},
     "output_type": "execute_result"
    }
   ],
   "source": [
    "A = np.random.rand(5, 4)\n",
    "b = np.random.rand(4)\n",
    "A@b"
   ]
  },
  {
   "cell_type": "code",
   "execution_count": 7,
   "id": "c4d41939",
   "metadata": {
    "ExecuteTime": {
     "end_time": "2023-05-17T14:27:37.025663752Z",
     "start_time": "2023-05-17T14:27:37.017999983Z"
    }
   },
   "outputs": [
    {
     "data": {
      "text/plain": "array([1.39993657, 1.58178377, 1.42019606, 1.25900474, 1.12947343])"
     },
     "execution_count": 7,
     "metadata": {},
     "output_type": "execute_result"
    }
   ],
   "source": [
    "res = np.zeros(A.shape[0])\n",
    "for j in range(A.shape[1]):\n",
    "    res += A[:, j]*b[j]\n",
    "res"
   ]
  },
  {
   "cell_type": "code",
   "execution_count": 8,
   "id": "038d2bb7",
   "metadata": {
    "scrolled": true,
    "ExecuteTime": {
     "end_time": "2023-05-17T14:27:37.051102036Z",
     "start_time": "2023-05-17T14:27:37.028767205Z"
    }
   },
   "outputs": [
    {
     "data": {
      "text/plain": "array([1.39993657, 1.58178377, 1.42019606, 1.25900474, 1.12947343])"
     },
     "execution_count": 8,
     "metadata": {},
     "output_type": "execute_result"
    }
   ],
   "source": [
    "np.einsum('ij, j -> i', A, b)"
   ]
  },
  {
   "cell_type": "markdown",
   "id": "0bcbe1ef",
   "metadata": {},
   "source": [
    "Dot product"
   ]
  },
  {
   "cell_type": "code",
   "execution_count": 9,
   "id": "be8b634a",
   "metadata": {
    "ExecuteTime": {
     "end_time": "2023-05-17T14:27:37.078900272Z",
     "start_time": "2023-05-17T14:27:37.034042511Z"
    }
   },
   "outputs": [
    {
     "data": {
      "text/plain": "True"
     },
     "execution_count": 9,
     "metadata": {},
     "output_type": "execute_result"
    }
   ],
   "source": [
    "np.allclose(np.einsum('i, i->', b, b), np.dot(b, b))"
   ]
  },
  {
   "cell_type": "markdown",
   "id": "4a90e97c",
   "metadata": {},
   "source": [
    "Matrix Matrix product"
   ]
  },
  {
   "cell_type": "code",
   "execution_count": 10,
   "id": "4cb920b5",
   "metadata": {
    "ExecuteTime": {
     "end_time": "2023-05-17T14:27:37.079180247Z",
     "start_time": "2023-05-17T14:27:37.076535001Z"
    }
   },
   "outputs": [
    {
     "data": {
      "text/plain": "True"
     },
     "execution_count": 10,
     "metadata": {},
     "output_type": "execute_result"
    }
   ],
   "source": [
    "np.allclose(np.einsum('ij, jk-> ik', A, A.T), A@A.T)"
   ]
  },
  {
   "cell_type": "markdown",
   "id": "7b60c65c",
   "metadata": {},
   "source": [
    "Sum of vector"
   ]
  },
  {
   "cell_type": "code",
   "execution_count": 11,
   "id": "b77e8a79",
   "metadata": {
    "ExecuteTime": {
     "end_time": "2023-05-17T14:27:37.079313598Z",
     "start_time": "2023-05-17T14:27:37.076732918Z"
    }
   },
   "outputs": [
    {
     "data": {
      "text/plain": "True"
     },
     "execution_count": 11,
     "metadata": {},
     "output_type": "execute_result"
    }
   ],
   "source": [
    "np.allclose(np.einsum('i->', b), np.sum(b))"
   ]
  },
  {
   "cell_type": "markdown",
   "id": "59dea8ae",
   "metadata": {},
   "source": [
    "Back to convolution"
   ]
  },
  {
   "cell_type": "code",
   "execution_count": 12,
   "id": "f8ff3a35",
   "metadata": {
    "ExecuteTime": {
     "end_time": "2023-05-17T14:27:37.079471533Z",
     "start_time": "2023-05-17T14:27:37.076834161Z"
    }
   },
   "outputs": [
    {
     "data": {
      "text/plain": "(5, 5, 3, 3)"
     },
     "execution_count": 12,
     "metadata": {},
     "output_type": "execute_result"
    }
   ],
   "source": [
    "from numpy.lib.stride_tricks import sliding_window_view\n",
    "view = sliding_window_view(pad_img, K.shape)\n",
    "view.shape"
   ]
  },
  {
   "cell_type": "code",
   "execution_count": 13,
   "id": "8cee14e6",
   "metadata": {
    "ExecuteTime": {
     "end_time": "2023-05-17T14:27:37.200839179Z",
     "start_time": "2023-05-17T14:27:37.076931507Z"
    }
   },
   "outputs": [
    {
     "data": {
      "text/plain": "<matplotlib.image.AxesImage at 0x7f4653913110>"
     },
     "execution_count": 13,
     "metadata": {},
     "output_type": "execute_result"
    },
    {
     "data": {
      "text/plain": "<Figure size 640x480 with 1 Axes>",
      "image/png": "[encoded data removed]"
     },
     "metadata": {},
     "output_type": "display_data"
    }
   ],
   "source": [
    "view = sliding_window_view(pad_img, K.shape)\n",
    "c_img_einsum = np.einsum('kl,ijkl->ij', K, view)\n",
    "plt.imshow(c_img_einsum, cmap = 'gray', vmin = 0, vmax = 1.0)"
   ]
  },
  {
   "cell_type": "code",
   "execution_count": 14,
   "id": "255c6c98",
   "metadata": {
    "scrolled": false,
    "ExecuteTime": {
     "end_time": "2023-05-17T14:27:37.206905182Z",
     "start_time": "2023-05-17T14:27:37.197048544Z"
    }
   },
   "outputs": [
    {
     "data": {
      "text/plain": "True"
     },
     "execution_count": 14,
     "metadata": {},
     "output_type": "execute_result"
    }
   ],
   "source": [
    "np.allclose(c_img, c_img_einsum)"
   ]
  },
  {
   "cell_type": "markdown",
   "id": "34913082",
   "metadata": {},
   "source": [
    "## Timing"
   ]
  },
  {
   "cell_type": "code",
   "execution_count": 15,
   "id": "a460f8e3",
   "metadata": {
    "ExecuteTime": {
     "end_time": "2023-05-17T14:27:37.212447229Z",
     "start_time": "2023-05-17T14:27:37.203516182Z"
    }
   },
   "outputs": [],
   "source": [
    "import numpy as np\n",
    "from numpy.lib.stride_tricks import sliding_window_view"
   ]
  },
  {
   "cell_type": "code",
   "execution_count": 16,
   "id": "26ca0403",
   "metadata": {
    "ExecuteTime": {
     "end_time": "2023-05-17T14:27:37.255329052Z",
     "start_time": "2023-05-17T14:27:37.212836171Z"
    }
   },
   "outputs": [],
   "source": [
    "rand_img = np.random.rand(50, 50)\n",
    "K = np.ones((3, 3))/9\n",
    "d = K.shape[0]//2\n",
    "\n",
    "\n",
    "def conv1():\n",
    "    pad_img = np.pad(rand_img, d)\n",
    "    c_img = np.zeros(rand_img.shape)\n",
    "    for i in range(rand_img.shape[0]):\n",
    "        for j in range(rand_img.shape[1]):\n",
    "            part = pad_img[i : i+K.shape[0], j : j+K.shape[1]]\n",
    "            c_img[i, j] = (part*K).sum()\n",
    "\n",
    "def conv2():\n",
    "    pad_img = np.pad(rand_img, d)\n",
    "    view = sliding_window_view(pad_img, K.shape)\n",
    "    c_img_einsum = np.einsum('kl,ijkl->ij', K, view)"
   ]
  },
  {
   "cell_type": "code",
   "execution_count": 17,
   "id": "4b939ca6",
   "metadata": {
    "ExecuteTime": {
     "end_time": "2023-05-17T14:27:44.836412100Z",
     "start_time": "2023-05-17T14:27:37.265041840Z"
    }
   },
   "outputs": [
    {
     "name": "stdout",
     "output_type": "stream",
     "text": [
      "9.38 ms ± 62.2 µs per loop (mean ± std. dev. of 7 runs, 100 loops each)\n"
     ]
    }
   ],
   "source": [
    "%timeit conv1()"
   ]
  },
  {
   "cell_type": "code",
   "execution_count": 18,
   "id": "809e88e9",
   "metadata": {
    "ExecuteTime": {
     "end_time": "2023-05-17T14:27:54.513598876Z",
     "start_time": "2023-05-17T14:27:44.835881763Z"
    }
   },
   "outputs": [
    {
     "name": "stdout",
     "output_type": "stream",
     "text": [
      "120 µs ± 1.17 µs per loop (mean ± std. dev. of 7 runs, 10,000 loops each)\n"
     ]
    }
   ],
   "source": [
    "%timeit conv2()"
   ]
  }
 ],
 "metadata": {
  "kernelspec": {
   "display_name": "Python 3 (ipykernel)",
   "language": "python",
   "name": "python3"
  },
  "language_info": {
   "codemirror_mode": {
    "name": "ipython",
    "version": 3
   },
   "file_extension": ".py",
   "mimetype": "text/x-python",
   "name": "python",
   "nbconvert_exporter": "python",
   "pygments_lexer": "ipython3",
   "version": "3.9.12"
  }
 },
 "nbformat": 4,
 "nbformat_minor": 5
}
